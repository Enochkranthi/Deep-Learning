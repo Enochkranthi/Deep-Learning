{
  "nbformat": 4,
  "nbformat_minor": 0,
  "metadata": {
    "colab": {
      "name": "02_Neural_Network_Classification_TensorFlow.ipynb",
      "provenance": [],
      "collapsed_sections": []
    },
    "kernelspec": {
      "name": "python3",
      "display_name": "Python 3"
    },
    "language_info": {
      "name": "python"
    }
  },
  "cells": [
    {
      "cell_type": "code",
      "execution_count": null,
      "metadata": {
        "id": "7E7eJNf_q5iJ"
      },
      "outputs": [],
      "source": [
        "from sklearn.datasets import make_circles"
      ]
    },
    {
      "cell_type": "code",
      "source": [
        "n_samples = 1000"
      ],
      "metadata": {
        "id": "Gh0kwZpS7m9d"
      },
      "execution_count": null,
      "outputs": []
    },
    {
      "cell_type": "code",
      "source": [
        "X,y =make_circles(n_samples, noise = 0.03, random_state=42)"
      ],
      "metadata": {
        "id": "4vvZyN_t7ofM"
      },
      "execution_count": null,
      "outputs": []
    },
    {
      "cell_type": "code",
      "source": [
        "X.shape, X[:10]"
      ],
      "metadata": {
        "colab": {
          "base_uri": "https://localhost:8080/"
        },
        "id": "cbHKEqEQ76LD",
        "outputId": "f4130eb0-bcd2-44ba-8833-9dae9b131e41"
      },
      "execution_count": null,
      "outputs": [
        {
          "output_type": "execute_result",
          "data": {
            "text/plain": [
              "((1000, 2), array([[ 0.75424625,  0.23148074],\n",
              "        [-0.75615888,  0.15325888],\n",
              "        [-0.81539193,  0.17328203],\n",
              "        [-0.39373073,  0.69288277],\n",
              "        [ 0.44220765, -0.89672343],\n",
              "        [-0.47964637,  0.67643477],\n",
              "        [-0.01364836,  0.80334872],\n",
              "        [ 0.77151327,  0.14775959],\n",
              "        [-0.16932234, -0.79345575],\n",
              "        [-0.1214858 ,  1.02150905]]))"
            ]
          },
          "metadata": {},
          "execution_count": 175
        }
      ]
    },
    {
      "cell_type": "code",
      "source": [
        "y.shape, y[:10]"
      ],
      "metadata": {
        "colab": {
          "base_uri": "https://localhost:8080/"
        },
        "id": "GyWvv1Nq775R",
        "outputId": "960964c1-3ead-47ed-e73b-5b666a7286c5"
      },
      "execution_count": null,
      "outputs": [
        {
          "output_type": "execute_result",
          "data": {
            "text/plain": [
              "((1000,), array([1, 1, 1, 1, 0, 1, 1, 1, 1, 0]))"
            ]
          },
          "metadata": {},
          "execution_count": 176
        }
      ]
    },
    {
      "cell_type": "code",
      "source": [
        "import pandas as pd"
      ],
      "metadata": {
        "id": "ih5EfX9g8y3q"
      },
      "execution_count": null,
      "outputs": []
    },
    {
      "cell_type": "code",
      "source": [
        "circles  = pd.DataFrame({'X0':X[:,0], 'X1':X[:,1], 'label':y})"
      ],
      "metadata": {
        "id": "pZ-zChRd80iG"
      },
      "execution_count": null,
      "outputs": []
    },
    {
      "cell_type": "code",
      "source": [
        "circles.head()"
      ],
      "metadata": {
        "colab": {
          "base_uri": "https://localhost:8080/",
          "height": 206
        },
        "id": "9yw8MBwB9CF7",
        "outputId": "6f62fa8b-76e2-4a2c-df15-8a8190e94fcc"
      },
      "execution_count": null,
      "outputs": [
        {
          "output_type": "execute_result",
          "data": {
            "text/plain": [
              "         X0        X1  label\n",
              "0  0.754246  0.231481      1\n",
              "1 -0.756159  0.153259      1\n",
              "2 -0.815392  0.173282      1\n",
              "3 -0.393731  0.692883      1\n",
              "4  0.442208 -0.896723      0"
            ],
            "text/html": [
              "\n",
              "  <div id=\"df-bd68db2c-646b-456e-bfef-c325ba3c939c\">\n",
              "    <div class=\"colab-df-container\">\n",
              "      <div>\n",
              "<style scoped>\n",
              "    .dataframe tbody tr th:only-of-type {\n",
              "        vertical-align: middle;\n",
              "    }\n",
              "\n",
              "    .dataframe tbody tr th {\n",
              "        vertical-align: top;\n",
              "    }\n",
              "\n",
              "    .dataframe thead th {\n",
              "        text-align: right;\n",
              "    }\n",
              "</style>\n",
              "<table border=\"1\" class=\"dataframe\">\n",
              "  <thead>\n",
              "    <tr style=\"text-align: right;\">\n",
              "      <th></th>\n",
              "      <th>X0</th>\n",
              "      <th>X1</th>\n",
              "      <th>label</th>\n",
              "    </tr>\n",
              "  </thead>\n",
              "  <tbody>\n",
              "    <tr>\n",
              "      <th>0</th>\n",
              "      <td>0.754246</td>\n",
              "      <td>0.231481</td>\n",
              "      <td>1</td>\n",
              "    </tr>\n",
              "    <tr>\n",
              "      <th>1</th>\n",
              "      <td>-0.756159</td>\n",
              "      <td>0.153259</td>\n",
              "      <td>1</td>\n",
              "    </tr>\n",
              "    <tr>\n",
              "      <th>2</th>\n",
              "      <td>-0.815392</td>\n",
              "      <td>0.173282</td>\n",
              "      <td>1</td>\n",
              "    </tr>\n",
              "    <tr>\n",
              "      <th>3</th>\n",
              "      <td>-0.393731</td>\n",
              "      <td>0.692883</td>\n",
              "      <td>1</td>\n",
              "    </tr>\n",
              "    <tr>\n",
              "      <th>4</th>\n",
              "      <td>0.442208</td>\n",
              "      <td>-0.896723</td>\n",
              "      <td>0</td>\n",
              "    </tr>\n",
              "  </tbody>\n",
              "</table>\n",
              "</div>\n",
              "      <button class=\"colab-df-convert\" onclick=\"convertToInteractive('df-bd68db2c-646b-456e-bfef-c325ba3c939c')\"\n",
              "              title=\"Convert this dataframe to an interactive table.\"\n",
              "              style=\"display:none;\">\n",
              "        \n",
              "  <svg xmlns=\"http://www.w3.org/2000/svg\" height=\"24px\"viewBox=\"0 0 24 24\"\n",
              "       width=\"24px\">\n",
              "    <path d=\"M0 0h24v24H0V0z\" fill=\"none\"/>\n",
              "    <path d=\"M18.56 5.44l.94 2.06.94-2.06 2.06-.94-2.06-.94-.94-2.06-.94 2.06-2.06.94zm-11 1L8.5 8.5l.94-2.06 2.06-.94-2.06-.94L8.5 2.5l-.94 2.06-2.06.94zm10 10l.94 2.06.94-2.06 2.06-.94-2.06-.94-.94-2.06-.94 2.06-2.06.94z\"/><path d=\"M17.41 7.96l-1.37-1.37c-.4-.4-.92-.59-1.43-.59-.52 0-1.04.2-1.43.59L10.3 9.45l-7.72 7.72c-.78.78-.78 2.05 0 2.83L4 21.41c.39.39.9.59 1.41.59.51 0 1.02-.2 1.41-.59l7.78-7.78 2.81-2.81c.8-.78.8-2.07 0-2.86zM5.41 20L4 18.59l7.72-7.72 1.47 1.35L5.41 20z\"/>\n",
              "  </svg>\n",
              "      </button>\n",
              "      \n",
              "  <style>\n",
              "    .colab-df-container {\n",
              "      display:flex;\n",
              "      flex-wrap:wrap;\n",
              "      gap: 12px;\n",
              "    }\n",
              "\n",
              "    .colab-df-convert {\n",
              "      background-color: #E8F0FE;\n",
              "      border: none;\n",
              "      border-radius: 50%;\n",
              "      cursor: pointer;\n",
              "      display: none;\n",
              "      fill: #1967D2;\n",
              "      height: 32px;\n",
              "      padding: 0 0 0 0;\n",
              "      width: 32px;\n",
              "    }\n",
              "\n",
              "    .colab-df-convert:hover {\n",
              "      background-color: #E2EBFA;\n",
              "      box-shadow: 0px 1px 2px rgba(60, 64, 67, 0.3), 0px 1px 3px 1px rgba(60, 64, 67, 0.15);\n",
              "      fill: #174EA6;\n",
              "    }\n",
              "\n",
              "    [theme=dark] .colab-df-convert {\n",
              "      background-color: #3B4455;\n",
              "      fill: #D2E3FC;\n",
              "    }\n",
              "\n",
              "    [theme=dark] .colab-df-convert:hover {\n",
              "      background-color: #434B5C;\n",
              "      box-shadow: 0px 1px 3px 1px rgba(0, 0, 0, 0.15);\n",
              "      filter: drop-shadow(0px 1px 2px rgba(0, 0, 0, 0.3));\n",
              "      fill: #FFFFFF;\n",
              "    }\n",
              "  </style>\n",
              "\n",
              "      <script>\n",
              "        const buttonEl =\n",
              "          document.querySelector('#df-bd68db2c-646b-456e-bfef-c325ba3c939c button.colab-df-convert');\n",
              "        buttonEl.style.display =\n",
              "          google.colab.kernel.accessAllowed ? 'block' : 'none';\n",
              "\n",
              "        async function convertToInteractive(key) {\n",
              "          const element = document.querySelector('#df-bd68db2c-646b-456e-bfef-c325ba3c939c');\n",
              "          const dataTable =\n",
              "            await google.colab.kernel.invokeFunction('convertToInteractive',\n",
              "                                                     [key], {});\n",
              "          if (!dataTable) return;\n",
              "\n",
              "          const docLinkHtml = 'Like what you see? Visit the ' +\n",
              "            '<a target=\"_blank\" href=https://colab.research.google.com/notebooks/data_table.ipynb>data table notebook</a>'\n",
              "            + ' to learn more about interactive tables.';\n",
              "          element.innerHTML = '';\n",
              "          dataTable['output_type'] = 'display_data';\n",
              "          await google.colab.output.renderOutput(dataTable, element);\n",
              "          const docLink = document.createElement('div');\n",
              "          docLink.innerHTML = docLinkHtml;\n",
              "          element.appendChild(docLink);\n",
              "        }\n",
              "      </script>\n",
              "    </div>\n",
              "  </div>\n",
              "  "
            ]
          },
          "metadata": {},
          "execution_count": 179
        }
      ]
    },
    {
      "cell_type": "code",
      "source": [
        "import matplotlib.pyplot as plt"
      ],
      "metadata": {
        "id": "-qdqEMjS9Goc"
      },
      "execution_count": null,
      "outputs": []
    },
    {
      "cell_type": "code",
      "source": [
        "plt.scatter(circles['X0'], circles['X1'],c = y)"
      ],
      "metadata": {
        "colab": {
          "base_uri": "https://localhost:8080/",
          "height": 283
        },
        "id": "wH1mYrsl9Ju3",
        "outputId": "709e999e-8039-4cbc-eca1-90b050ceb678"
      },
      "execution_count": null,
      "outputs": [
        {
          "output_type": "execute_result",
          "data": {
            "text/plain": [
              "<matplotlib.collections.PathCollection at 0x7fa75de73050>"
            ]
          },
          "metadata": {},
          "execution_count": 181
        },
        {
          "output_type": "display_data",
          "data": {
            "text/plain": [
              "<Figure size 432x288 with 1 Axes>"
            ],
            "image/png": "[encoded data removed]"
          },
          "metadata": {
            "needs_background": "light"
          }
        }
      ]
    },
    {
      "cell_type": "code",
      "source": [
        "from sklearn.model_selection import train_test_split"
      ],
      "metadata": {
        "id": "MS-EZr8ndIXP"
      },
      "execution_count": null,
      "outputs": []
    },
    {
      "cell_type": "code",
      "source": [
        "X_train, X_test, y_train, y_test = train_test_split(X,y, test_size=0.2, random_state=42)"
      ],
      "metadata": {
        "id": "ZmNFgw8gdOhM"
      },
      "execution_count": null,
      "outputs": []
    },
    {
      "cell_type": "code",
      "source": [
        "import tensorflow as tf\n"
      ],
      "metadata": {
        "id": "_7obkVDLC4Do"
      },
      "execution_count": null,
      "outputs": []
    },
    {
      "cell_type": "code",
      "source": [
        "tf.random.set_seed(42)\n",
        "\n",
        "model = tf.keras.Sequential([\n",
        "        tf.keras.layers.Dense(1)\n",
        "])\n",
        "\n",
        "\n",
        "model.compile(loss=tf.keras.losses.BinaryCrossentropy(), optimizer = tf.keras.optimizers.SGD(), metrics = ['accuracy'])\n",
        "\n",
        "\n",
        "model.fit(X_train,y_train,epochs=200, verbose=1)"
      ],
      "metadata": {
        "colab": {
          "base_uri": "https://localhost:8080/"
        },
        "id": "P81HrC4BC7_L",
        "outputId": "7cd3f505-52bb-4c7e-ea93-2ed1163d5bc1"
      },
      "execution_count": null,
      "outputs": [
        {
          "output_type": "stream",
          "name": "stdout",
          "text": [
            "Epoch 1/200\n",
            "25/25 [==============================] - 0s 1ms/step - loss: 1.4444 - accuracy: 0.4925\n",
            "Epoch 2/200\n",
            "25/25 [==============================] - 0s 1ms/step - loss: 0.7313 - accuracy: 0.5013\n",
            "Epoch 3/200\n",
            "25/25 [==============================] - 0s 1ms/step - loss: 0.7085 - accuracy: 0.5000\n",
            "Epoch 4/200\n",
            "25/25 [==============================] - 0s 2ms/step - loss: 0.6998 - accuracy: 0.4963\n",
            "Epoch 5/200\n",
            "25/25 [==============================] - 0s 2ms/step - loss: 0.6966 - accuracy: 0.4950\n",
            "Epoch 6/200\n",
            "25/25 [==============================] - 0s 2ms/step - loss: 0.6950 - accuracy: 0.4950\n",
            "Epoch 7/200\n",
            "25/25 [==============================] - 0s 1ms/step - loss: 0.6944 - accuracy: 0.5050\n",
            "Epoch 8/200\n",
            "25/25 [==============================] - 0s 2ms/step - loss: 0.6942 - accuracy: 0.4837\n",
            "Epoch 9/200\n",
            "25/25 [==============================] - 0s 1ms/step - loss: 0.6941 - accuracy: 0.4913\n",
            "Epoch 10/200\n",
            "25/25 [==============================] - 0s 1ms/step - loss: 0.6942 - accuracy: 0.4913\n",
            "Epoch 11/200\n",
            "25/25 [==============================] - 0s 1ms/step - loss: 0.6940 - accuracy: 0.4837\n",
            "Epoch 12/200\n",
            "25/25 [==============================] - 0s 2ms/step - loss: 0.6941 - accuracy: 0.4925\n",
            "Epoch 13/200\n",
            "25/25 [==============================] - 0s 2ms/step - loss: 0.6941 - accuracy: 0.5175\n",
            "Epoch 14/200\n",
            "25/25 [==============================] - 0s 1ms/step - loss: 0.6941 - accuracy: 0.4787\n",
            "Epoch 15/200\n",
            "25/25 [==============================] - 0s 1ms/step - loss: 0.6941 - accuracy: 0.4963\n",
            "Epoch 16/200\n",
            "25/25 [==============================] - 0s 1ms/step - loss: 0.6938 - accuracy: 0.5050\n",
            "Epoch 17/200\n",
            "25/25 [==============================] - 0s 2ms/step - loss: 0.6937 - accuracy: 0.4800\n",
            "Epoch 18/200\n",
            "25/25 [==============================] - 0s 2ms/step - loss: 0.6940 - accuracy: 0.5200\n",
            "Epoch 19/200\n",
            "25/25 [==============================] - 0s 1ms/step - loss: 0.6942 - accuracy: 0.4837\n",
            "Epoch 20/200\n",
            "25/25 [==============================] - 0s 1ms/step - loss: 0.6940 - accuracy: 0.5188\n",
            "Epoch 21/200\n",
            "25/25 [==============================] - 0s 1ms/step - loss: 0.6940 - accuracy: 0.5263\n",
            "Epoch 22/200\n",
            "25/25 [==============================] - 0s 1ms/step - loss: 0.6940 - accuracy: 0.4525\n",
            "Epoch 23/200\n",
            "25/25 [==============================] - 0s 3ms/step - loss: 0.6941 - accuracy: 0.4913\n",
            "Epoch 24/200\n",
            "25/25 [==============================] - 0s 1ms/step - loss: 0.6942 - accuracy: 0.4913\n",
            "Epoch 25/200\n",
            "25/25 [==============================] - 0s 1ms/step - loss: 0.6941 - accuracy: 0.4988\n",
            "Epoch 26/200\n",
            "25/25 [==============================] - 0s 1ms/step - loss: 0.6939 - accuracy: 0.5163\n",
            "Epoch 27/200\n",
            "25/25 [==============================] - 0s 1ms/step - loss: 0.6940 - accuracy: 0.4812\n",
            "Epoch 28/200\n",
            "25/25 [==============================] - 0s 1ms/step - loss: 0.6943 - accuracy: 0.4888\n",
            "Epoch 29/200\n",
            "25/25 [==============================] - 0s 1ms/step - loss: 0.6938 - accuracy: 0.4775\n",
            "Epoch 30/200\n",
            "25/25 [==============================] - 0s 2ms/step - loss: 0.6941 - accuracy: 0.5013\n",
            "Epoch 31/200\n",
            "25/25 [==============================] - 0s 2ms/step - loss: 0.6944 - accuracy: 0.4750\n",
            "Epoch 32/200\n",
            "25/25 [==============================] - 0s 2ms/step - loss: 0.6942 - accuracy: 0.4737\n",
            "Epoch 33/200\n",
            "25/25 [==============================] - 0s 2ms/step - loss: 0.6941 - accuracy: 0.4950\n",
            "Epoch 34/200\n",
            "25/25 [==============================] - 0s 2ms/step - loss: 0.6940 - accuracy: 0.4575\n",
            "Epoch 35/200\n",
            "25/25 [==============================] - 0s 1ms/step - loss: 0.6944 - accuracy: 0.5300\n",
            "Epoch 36/200\n",
            "25/25 [==============================] - 0s 1ms/step - loss: 0.6942 - accuracy: 0.4900\n",
            "Epoch 37/200\n",
            "25/25 [==============================] - 0s 1ms/step - loss: 0.6941 - accuracy: 0.4913\n",
            "Epoch 38/200\n",
            "25/25 [==============================] - 0s 1ms/step - loss: 0.6937 - accuracy: 0.4850\n",
            "Epoch 39/200\n",
            "25/25 [==============================] - 0s 1ms/step - loss: 0.6939 - accuracy: 0.5213\n",
            "Epoch 40/200\n",
            "25/25 [==============================] - 0s 1ms/step - loss: 0.6940 - accuracy: 0.4963\n",
            "Epoch 41/200\n",
            "25/25 [==============================] - 0s 1ms/step - loss: 0.6942 - accuracy: 0.4700\n",
            "Epoch 42/200\n",
            "25/25 [==============================] - 0s 1ms/step - loss: 0.6942 - accuracy: 0.5013\n",
            "Epoch 43/200\n",
            "25/25 [==============================] - 0s 1ms/step - loss: 0.6938 - accuracy: 0.5050\n",
            "Epoch 44/200\n",
            "25/25 [==============================] - 0s 2ms/step - loss: 0.6944 - accuracy: 0.4775\n",
            "Epoch 45/200\n",
            "25/25 [==============================] - 0s 2ms/step - loss: 0.6940 - accuracy: 0.4787\n",
            "Epoch 46/200\n",
            "25/25 [==============================] - 0s 1ms/step - loss: 0.6937 - accuracy: 0.5075\n",
            "Epoch 47/200\n",
            "25/25 [==============================] - 0s 1ms/step - loss: 0.6937 - accuracy: 0.5038\n",
            "Epoch 48/200\n",
            "25/25 [==============================] - 0s 2ms/step - loss: 0.6938 - accuracy: 0.4850\n",
            "Epoch 49/200\n",
            "25/25 [==============================] - 0s 2ms/step - loss: 0.6941 - accuracy: 0.4950\n",
            "Epoch 50/200\n",
            "25/25 [==============================] - 0s 1ms/step - loss: 0.6937 - accuracy: 0.4863\n",
            "Epoch 51/200\n",
            "25/25 [==============================] - 0s 1ms/step - loss: 0.6938 - accuracy: 0.4988\n",
            "Epoch 52/200\n",
            "25/25 [==============================] - 0s 2ms/step - loss: 0.6941 - accuracy: 0.4950\n",
            "Epoch 53/200\n",
            "25/25 [==============================] - 0s 1ms/step - loss: 0.6939 - accuracy: 0.5337\n",
            "Epoch 54/200\n",
            "25/25 [==============================] - 0s 1ms/step - loss: 0.6940 - accuracy: 0.4600\n",
            "Epoch 55/200\n",
            "25/25 [==============================] - 0s 1ms/step - loss: 0.6943 - accuracy: 0.4975\n",
            "Epoch 56/200\n",
            "25/25 [==============================] - 0s 2ms/step - loss: 0.6940 - accuracy: 0.4963\n",
            "Epoch 57/200\n",
            "25/25 [==============================] - 0s 1ms/step - loss: 0.6937 - accuracy: 0.5075\n",
            "Epoch 58/200\n",
            "25/25 [==============================] - 0s 1ms/step - loss: 0.6940 - accuracy: 0.5000\n",
            "Epoch 59/200\n",
            "25/25 [==============================] - 0s 2ms/step - loss: 0.6941 - accuracy: 0.4725\n",
            "Epoch 60/200\n",
            "25/25 [==============================] - 0s 1ms/step - loss: 0.6941 - accuracy: 0.5150\n",
            "Epoch 61/200\n",
            "25/25 [==============================] - 0s 2ms/step - loss: 0.6945 - accuracy: 0.4487\n",
            "Epoch 62/200\n",
            "25/25 [==============================] - 0s 1ms/step - loss: 0.6941 - accuracy: 0.5000\n",
            "Epoch 63/200\n",
            "25/25 [==============================] - 0s 1ms/step - loss: 0.6941 - accuracy: 0.4837\n",
            "Epoch 64/200\n",
            "25/25 [==============================] - 0s 1ms/step - loss: 0.6937 - accuracy: 0.4950\n",
            "Epoch 65/200\n",
            "25/25 [==============================] - 0s 1ms/step - loss: 0.6941 - accuracy: 0.4800\n",
            "Epoch 66/200\n",
            "25/25 [==============================] - 0s 2ms/step - loss: 0.6941 - accuracy: 0.4975\n",
            "Epoch 67/200\n",
            "25/25 [==============================] - 0s 2ms/step - loss: 0.6941 - accuracy: 0.4825\n",
            "Epoch 68/200\n",
            "25/25 [==============================] - 0s 2ms/step - loss: 0.6941 - accuracy: 0.5088\n",
            "Epoch 69/200\n",
            "25/25 [==============================] - 0s 1ms/step - loss: 0.6939 - accuracy: 0.4913\n",
            "Epoch 70/200\n",
            "25/25 [==============================] - 0s 1ms/step - loss: 0.6941 - accuracy: 0.5038\n",
            "Epoch 71/200\n",
            "25/25 [==============================] - 0s 1ms/step - loss: 0.6937 - accuracy: 0.4988\n",
            "Epoch 72/200\n",
            "25/25 [==============================] - 0s 2ms/step - loss: 0.6940 - accuracy: 0.4775\n",
            "Epoch 73/200\n",
            "25/25 [==============================] - 0s 2ms/step - loss: 0.6938 - accuracy: 0.5163\n",
            "Epoch 74/200\n",
            "25/25 [==============================] - 0s 2ms/step - loss: 0.6940 - accuracy: 0.4812\n",
            "Epoch 75/200\n",
            "25/25 [==============================] - 0s 2ms/step - loss: 0.6938 - accuracy: 0.5075\n",
            "Epoch 76/200\n",
            "25/25 [==============================] - 0s 1ms/step - loss: 0.6940 - accuracy: 0.4963\n",
            "Epoch 77/200\n",
            "25/25 [==============================] - 0s 2ms/step - loss: 0.6938 - accuracy: 0.5088\n",
            "Epoch 78/200\n",
            "25/25 [==============================] - 0s 1ms/step - loss: 0.6945 - accuracy: 0.4950\n",
            "Epoch 79/200\n",
            "25/25 [==============================] - 0s 1ms/step - loss: 0.6939 - accuracy: 0.4850\n",
            "Epoch 80/200\n",
            "25/25 [==============================] - 0s 1ms/step - loss: 0.6943 - accuracy: 0.4675\n",
            "Epoch 81/200\n",
            "25/25 [==============================] - 0s 2ms/step - loss: 0.6937 - accuracy: 0.5088\n",
            "Epoch 82/200\n",
            "25/25 [==============================] - 0s 1ms/step - loss: 0.6939 - accuracy: 0.5113\n",
            "Epoch 83/200\n",
            "25/25 [==============================] - 0s 1ms/step - loss: 0.6940 - accuracy: 0.4875\n",
            "Epoch 84/200\n",
            "25/25 [==============================] - 0s 1ms/step - loss: 0.6939 - accuracy: 0.4787\n",
            "Epoch 85/200\n",
            "25/25 [==============================] - 0s 1ms/step - loss: 0.6938 - accuracy: 0.5225\n",
            "Epoch 86/200\n",
            "25/25 [==============================] - 0s 2ms/step - loss: 0.6936 - accuracy: 0.4950\n",
            "Epoch 87/200\n",
            "25/25 [==============================] - 0s 2ms/step - loss: 0.6939 - accuracy: 0.4888\n",
            "Epoch 88/200\n",
            "25/25 [==============================] - 0s 1ms/step - loss: 0.6940 - accuracy: 0.4638\n",
            "Epoch 89/200\n",
            "25/25 [==============================] - 0s 2ms/step - loss: 0.6937 - accuracy: 0.4888\n",
            "Epoch 90/200\n",
            "25/25 [==============================] - 0s 1ms/step - loss: 0.6939 - accuracy: 0.5213\n",
            "Epoch 91/200\n",
            "25/25 [==============================] - 0s 1ms/step - loss: 0.6936 - accuracy: 0.4988\n",
            "Epoch 92/200\n",
            "25/25 [==============================] - 0s 1ms/step - loss: 0.6938 - accuracy: 0.5025\n",
            "Epoch 93/200\n",
            "25/25 [==============================] - 0s 2ms/step - loss: 0.6939 - accuracy: 0.4775\n",
            "Epoch 94/200\n",
            "25/25 [==============================] - 0s 2ms/step - loss: 0.6935 - accuracy: 0.5200\n",
            "Epoch 95/200\n",
            "25/25 [==============================] - 0s 1ms/step - loss: 0.6937 - accuracy: 0.4800\n",
            "Epoch 96/200\n",
            "25/25 [==============================] - 0s 2ms/step - loss: 0.6942 - accuracy: 0.5125\n",
            "Epoch 97/200\n",
            "25/25 [==============================] - 0s 2ms/step - loss: 0.6942 - accuracy: 0.4825\n",
            "Epoch 98/200\n",
            "25/25 [==============================] - 0s 1ms/step - loss: 0.6942 - accuracy: 0.4975\n",
            "Epoch 99/200\n",
            "25/25 [==============================] - 0s 2ms/step - loss: 0.6938 - accuracy: 0.4812\n",
            "Epoch 100/200\n",
            "25/25 [==============================] - 0s 2ms/step - loss: 0.6940 - accuracy: 0.5113\n",
            "Epoch 101/200\n",
            "25/25 [==============================] - 0s 2ms/step - loss: 0.6941 - accuracy: 0.5113\n",
            "Epoch 102/200\n",
            "25/25 [==============================] - 0s 1ms/step - loss: 0.6944 - accuracy: 0.4812\n",
            "Epoch 103/200\n",
            "25/25 [==============================] - 0s 2ms/step - loss: 0.6940 - accuracy: 0.5175\n",
            "Epoch 104/200\n",
            "25/25 [==============================] - 0s 2ms/step - loss: 0.6938 - accuracy: 0.5113\n",
            "Epoch 105/200\n",
            "25/25 [==============================] - 0s 1ms/step - loss: 0.6937 - accuracy: 0.4875\n",
            "Epoch 106/200\n",
            "25/25 [==============================] - 0s 2ms/step - loss: 0.6938 - accuracy: 0.5163\n",
            "Epoch 107/200\n",
            "25/25 [==============================] - 0s 1ms/step - loss: 0.6941 - accuracy: 0.4875\n",
            "Epoch 108/200\n",
            "25/25 [==============================] - 0s 1ms/step - loss: 0.6945 - accuracy: 0.4950\n",
            "Epoch 109/200\n",
            "25/25 [==============================] - 0s 2ms/step - loss: 0.6944 - accuracy: 0.4963\n",
            "Epoch 110/200\n",
            "25/25 [==============================] - 0s 2ms/step - loss: 0.6937 - accuracy: 0.5100\n",
            "Epoch 111/200\n",
            "25/25 [==============================] - 0s 1ms/step - loss: 0.6937 - accuracy: 0.4825\n",
            "Epoch 112/200\n",
            "25/25 [==============================] - 0s 1ms/step - loss: 0.6940 - accuracy: 0.4613\n",
            "Epoch 113/200\n",
            "25/25 [==============================] - 0s 1ms/step - loss: 0.6941 - accuracy: 0.5075\n",
            "Epoch 114/200\n",
            "25/25 [==============================] - 0s 1ms/step - loss: 0.6943 - accuracy: 0.5025\n",
            "Epoch 115/200\n",
            "25/25 [==============================] - 0s 1ms/step - loss: 0.6941 - accuracy: 0.5088\n",
            "Epoch 116/200\n",
            "25/25 [==============================] - 0s 2ms/step - loss: 0.6943 - accuracy: 0.4712\n",
            "Epoch 117/200\n",
            "25/25 [==============================] - 0s 2ms/step - loss: 0.6940 - accuracy: 0.4888\n",
            "Epoch 118/200\n",
            "25/25 [==============================] - 0s 1ms/step - loss: 0.6938 - accuracy: 0.4950\n",
            "Epoch 119/200\n",
            "25/25 [==============================] - 0s 1ms/step - loss: 0.6943 - accuracy: 0.4913\n",
            "Epoch 120/200\n",
            "25/25 [==============================] - 0s 2ms/step - loss: 0.6939 - accuracy: 0.5113\n",
            "Epoch 121/200\n",
            "25/25 [==============================] - 0s 2ms/step - loss: 0.6937 - accuracy: 0.4888\n",
            "Epoch 122/200\n",
            "25/25 [==============================] - 0s 1ms/step - loss: 0.6943 - accuracy: 0.4938\n",
            "Epoch 123/200\n",
            "25/25 [==============================] - 0s 2ms/step - loss: 0.6939 - accuracy: 0.5063\n",
            "Epoch 124/200\n",
            "25/25 [==============================] - 0s 2ms/step - loss: 0.6937 - accuracy: 0.5013\n",
            "Epoch 125/200\n",
            "25/25 [==============================] - 0s 1ms/step - loss: 0.6941 - accuracy: 0.4688\n",
            "Epoch 126/200\n",
            "25/25 [==============================] - 0s 1ms/step - loss: 0.6938 - accuracy: 0.5275\n",
            "Epoch 127/200\n",
            "25/25 [==============================] - 0s 1ms/step - loss: 0.6937 - accuracy: 0.5025\n",
            "Epoch 128/200\n",
            "25/25 [==============================] - 0s 1ms/step - loss: 0.6937 - accuracy: 0.4850\n",
            "Epoch 129/200\n",
            "25/25 [==============================] - 0s 2ms/step - loss: 0.6940 - accuracy: 0.5013\n",
            "Epoch 130/200\n",
            "25/25 [==============================] - 0s 1ms/step - loss: 0.6941 - accuracy: 0.5100\n",
            "Epoch 131/200\n",
            "25/25 [==============================] - 0s 1ms/step - loss: 0.6944 - accuracy: 0.4875\n",
            "Epoch 132/200\n",
            "25/25 [==============================] - 0s 1ms/step - loss: 0.6938 - accuracy: 0.5275\n",
            "Epoch 133/200\n",
            "25/25 [==============================] - 0s 2ms/step - loss: 0.6939 - accuracy: 0.4412\n",
            "Epoch 134/200\n",
            "25/25 [==============================] - 0s 2ms/step - loss: 0.6939 - accuracy: 0.4787\n",
            "Epoch 135/200\n",
            "25/25 [==============================] - 0s 1ms/step - loss: 0.6938 - accuracy: 0.5050\n",
            "Epoch 136/200\n",
            "25/25 [==============================] - 0s 2ms/step - loss: 0.6938 - accuracy: 0.4837\n",
            "Epoch 137/200\n",
            "25/25 [==============================] - 0s 1ms/step - loss: 0.6941 - accuracy: 0.4775\n",
            "Epoch 138/200\n",
            "25/25 [==============================] - 0s 2ms/step - loss: 0.6939 - accuracy: 0.5300\n",
            "Epoch 139/200\n",
            "25/25 [==============================] - 0s 1ms/step - loss: 0.6940 - accuracy: 0.4787\n",
            "Epoch 140/200\n",
            "25/25 [==============================] - 0s 1ms/step - loss: 0.6940 - accuracy: 0.4650\n",
            "Epoch 141/200\n",
            "25/25 [==============================] - 0s 2ms/step - loss: 0.6940 - accuracy: 0.5238\n",
            "Epoch 142/200\n",
            "25/25 [==============================] - 0s 2ms/step - loss: 0.6939 - accuracy: 0.5088\n",
            "Epoch 143/200\n",
            "25/25 [==============================] - 0s 1ms/step - loss: 0.6939 - accuracy: 0.5213\n",
            "Epoch 144/200\n",
            "25/25 [==============================] - 0s 1ms/step - loss: 0.6940 - accuracy: 0.5125\n",
            "Epoch 145/200\n",
            "25/25 [==============================] - 0s 1ms/step - loss: 0.6944 - accuracy: 0.4638\n",
            "Epoch 146/200\n",
            "25/25 [==============================] - 0s 2ms/step - loss: 0.6940 - accuracy: 0.5063\n",
            "Epoch 147/200\n",
            "25/25 [==============================] - 0s 1ms/step - loss: 0.6938 - accuracy: 0.4900\n",
            "Epoch 148/200\n",
            "25/25 [==============================] - 0s 1ms/step - loss: 0.6940 - accuracy: 0.4950\n",
            "Epoch 149/200\n",
            "25/25 [==============================] - 0s 1ms/step - loss: 0.6937 - accuracy: 0.4800\n",
            "Epoch 150/200\n",
            "25/25 [==============================] - 0s 2ms/step - loss: 0.6942 - accuracy: 0.4938\n",
            "Epoch 151/200\n",
            "25/25 [==============================] - 0s 1ms/step - loss: 0.6941 - accuracy: 0.5050\n",
            "Epoch 152/200\n",
            "25/25 [==============================] - 0s 1ms/step - loss: 0.6939 - accuracy: 0.5150\n",
            "Epoch 153/200\n",
            "25/25 [==============================] - 0s 2ms/step - loss: 0.6939 - accuracy: 0.4988\n",
            "Epoch 154/200\n",
            "25/25 [==============================] - 0s 2ms/step - loss: 0.6941 - accuracy: 0.4638\n",
            "Epoch 155/200\n",
            "25/25 [==============================] - 0s 2ms/step - loss: 0.6941 - accuracy: 0.5300\n",
            "Epoch 156/200\n",
            "25/25 [==============================] - 0s 2ms/step - loss: 0.6942 - accuracy: 0.4863\n",
            "Epoch 157/200\n",
            "25/25 [==============================] - 0s 1ms/step - loss: 0.6939 - accuracy: 0.4938\n",
            "Epoch 158/200\n",
            "25/25 [==============================] - 0s 2ms/step - loss: 0.6943 - accuracy: 0.5100\n",
            "Epoch 159/200\n",
            "25/25 [==============================] - 0s 2ms/step - loss: 0.6939 - accuracy: 0.5138\n",
            "Epoch 160/200\n",
            "25/25 [==============================] - 0s 2ms/step - loss: 0.6940 - accuracy: 0.5013\n",
            "Epoch 161/200\n",
            "25/25 [==============================] - 0s 2ms/step - loss: 0.6936 - accuracy: 0.5138\n",
            "Epoch 162/200\n",
            "25/25 [==============================] - 0s 1ms/step - loss: 0.6940 - accuracy: 0.4762\n",
            "Epoch 163/200\n",
            "25/25 [==============================] - 0s 1ms/step - loss: 0.6940 - accuracy: 0.4913\n",
            "Epoch 164/200\n",
            "25/25 [==============================] - 0s 2ms/step - loss: 0.6940 - accuracy: 0.5088\n",
            "Epoch 165/200\n",
            "25/25 [==============================] - 0s 1ms/step - loss: 0.6938 - accuracy: 0.5138\n",
            "Epoch 166/200\n",
            "25/25 [==============================] - 0s 1ms/step - loss: 0.6939 - accuracy: 0.4712\n",
            "Epoch 167/200\n",
            "25/25 [==============================] - 0s 1ms/step - loss: 0.6939 - accuracy: 0.5288\n",
            "Epoch 168/200\n",
            "25/25 [==============================] - 0s 1ms/step - loss: 0.6942 - accuracy: 0.4925\n",
            "Epoch 169/200\n",
            "25/25 [==============================] - 0s 1ms/step - loss: 0.6940 - accuracy: 0.4625\n",
            "Epoch 170/200\n",
            "25/25 [==============================] - 0s 2ms/step - loss: 0.6942 - accuracy: 0.4875\n",
            "Epoch 171/200\n",
            "25/25 [==============================] - 0s 2ms/step - loss: 0.6939 - accuracy: 0.5138\n",
            "Epoch 172/200\n",
            "25/25 [==============================] - 0s 1ms/step - loss: 0.6940 - accuracy: 0.5038\n",
            "Epoch 173/200\n",
            "25/25 [==============================] - 0s 1ms/step - loss: 0.6941 - accuracy: 0.5038\n",
            "Epoch 174/200\n",
            "25/25 [==============================] - 0s 1ms/step - loss: 0.6937 - accuracy: 0.4888\n",
            "Epoch 175/200\n",
            "25/25 [==============================] - 0s 1ms/step - loss: 0.6938 - accuracy: 0.5213\n",
            "Epoch 176/200\n",
            "25/25 [==============================] - 0s 1ms/step - loss: 0.6940 - accuracy: 0.4837\n",
            "Epoch 177/200\n",
            "25/25 [==============================] - 0s 2ms/step - loss: 0.6938 - accuracy: 0.5075\n",
            "Epoch 178/200\n",
            "25/25 [==============================] - 0s 1ms/step - loss: 0.6943 - accuracy: 0.4787\n",
            "Epoch 179/200\n",
            "25/25 [==============================] - 0s 2ms/step - loss: 0.6943 - accuracy: 0.4950\n",
            "Epoch 180/200\n",
            "25/25 [==============================] - 0s 1ms/step - loss: 0.6939 - accuracy: 0.4888\n",
            "Epoch 181/200\n",
            "25/25 [==============================] - 0s 1ms/step - loss: 0.6940 - accuracy: 0.5025\n",
            "Epoch 182/200\n",
            "25/25 [==============================] - 0s 1ms/step - loss: 0.6939 - accuracy: 0.5163\n",
            "Epoch 183/200\n",
            "25/25 [==============================] - 0s 1ms/step - loss: 0.6948 - accuracy: 0.4925\n",
            "Epoch 184/200\n",
            "25/25 [==============================] - 0s 1ms/step - loss: 0.6940 - accuracy: 0.4625\n",
            "Epoch 185/200\n",
            "25/25 [==============================] - 0s 2ms/step - loss: 0.6942 - accuracy: 0.4925\n",
            "Epoch 186/200\n",
            "25/25 [==============================] - 0s 1ms/step - loss: 0.6942 - accuracy: 0.5013\n",
            "Epoch 187/200\n",
            "25/25 [==============================] - 0s 1ms/step - loss: 0.6941 - accuracy: 0.5000\n",
            "Epoch 188/200\n",
            "25/25 [==============================] - 0s 1ms/step - loss: 0.6940 - accuracy: 0.4900\n",
            "Epoch 189/200\n",
            "25/25 [==============================] - 0s 1ms/step - loss: 0.6940 - accuracy: 0.4875\n",
            "Epoch 190/200\n",
            "25/25 [==============================] - 0s 2ms/step - loss: 0.6938 - accuracy: 0.4800\n",
            "Epoch 191/200\n",
            "25/25 [==============================] - 0s 2ms/step - loss: 0.6939 - accuracy: 0.5175\n",
            "Epoch 192/200\n",
            "25/25 [==============================] - 0s 2ms/step - loss: 0.6939 - accuracy: 0.5175\n",
            "Epoch 193/200\n",
            "25/25 [==============================] - 0s 2ms/step - loss: 0.6940 - accuracy: 0.4675\n",
            "Epoch 194/200\n",
            "25/25 [==============================] - 0s 1ms/step - loss: 0.6941 - accuracy: 0.4900\n",
            "Epoch 195/200\n",
            "25/25 [==============================] - 0s 1ms/step - loss: 0.6937 - accuracy: 0.5175\n",
            "Epoch 196/200\n",
            "25/25 [==============================] - 0s 2ms/step - loss: 0.6939 - accuracy: 0.5125\n",
            "Epoch 197/200\n",
            "25/25 [==============================] - 0s 1ms/step - loss: 0.6941 - accuracy: 0.4863\n",
            "Epoch 198/200\n",
            "25/25 [==============================] - 0s 1ms/step - loss: 0.6941 - accuracy: 0.4938\n",
            "Epoch 199/200\n",
            "25/25 [==============================] - 0s 1ms/step - loss: 0.6940 - accuracy: 0.4837\n",
            "Epoch 200/200\n",
            "25/25 [==============================] - 0s 2ms/step - loss: 0.6940 - accuracy: 0.4975\n"
          ]
        },
        {
          "output_type": "execute_result",
          "data": {
            "text/plain": [
              "<keras.callbacks.History at 0x7fa762736a10>"
            ]
          },
          "metadata": {},
          "execution_count": 185
        }
      ]
    },
    {
      "cell_type": "code",
      "source": [
        "tf.random.set_seed(42)\n",
        "\n",
        "model_1 = tf.keras.Sequential([\n",
        "                               tf.keras.layers.Dense(4,activation='relu'),\n",
        "                               tf.keras.layers.Dense(4,activation='relu'),\n",
        "                               tf.keras.layers.Dense(1,activation='sigmoid')\n",
        "                               \n",
        "])\n",
        "\n",
        "\n",
        "model_1.compile(loss='binary_crossentropy', optimizer = tf.keras.optimizers.Adam(lr=0.01),metrics=['accuracy']) # for\n",
        "\n",
        "history = model_1.fit(X_train,y_train,epochs=30)"
      ],
      "metadata": {
        "colab": {
          "base_uri": "https://localhost:8080/"
        },
        "id": "dwMDTnwQFrr1",
        "outputId": "c57c71c7-ffb3-4b3a-c5d0-ce73a2247b10"
      },
      "execution_count": null,
      "outputs": [
        {
          "output_type": "stream",
          "name": "stdout",
          "text": [
            "Epoch 1/30\n"
          ]
        },
        {
          "output_type": "stream",
          "name": "stderr",
          "text": [
            "/usr/local/lib/python3.7/dist-packages/keras/optimizer_v2/adam.py:105: UserWarning: The `lr` argument is deprecated, use `learning_rate` instead.\n",
            "  super(Adam, self).__init__(name, **kwargs)\n"
          ]
        },
        {
          "output_type": "stream",
          "name": "stdout",
          "text": [
            "25/25 [==============================] - 0s 2ms/step - loss: 0.6824 - accuracy: 0.5638\n",
            "Epoch 2/30\n",
            "25/25 [==============================] - 0s 2ms/step - loss: 0.6750 - accuracy: 0.5650\n",
            "Epoch 3/30\n",
            "25/25 [==============================] - 0s 1ms/step - loss: 0.6680 - accuracy: 0.5763\n",
            "Epoch 4/30\n",
            "25/25 [==============================] - 0s 2ms/step - loss: 0.6635 - accuracy: 0.5725\n",
            "Epoch 5/30\n",
            "25/25 [==============================] - 0s 2ms/step - loss: 0.6592 - accuracy: 0.5713\n",
            "Epoch 6/30\n",
            "25/25 [==============================] - 0s 2ms/step - loss: 0.6475 - accuracy: 0.5938\n",
            "Epoch 7/30\n",
            "25/25 [==============================] - 0s 2ms/step - loss: 0.6312 - accuracy: 0.6275\n",
            "Epoch 8/30\n",
            "25/25 [==============================] - 0s 2ms/step - loss: 0.6093 - accuracy: 0.6963\n",
            "Epoch 9/30\n",
            "25/25 [==============================] - 0s 2ms/step - loss: 0.5844 - accuracy: 0.7212\n",
            "Epoch 10/30\n",
            "25/25 [==============================] - 0s 2ms/step - loss: 0.5442 - accuracy: 0.7675\n",
            "Epoch 11/30\n",
            "25/25 [==============================] - 0s 2ms/step - loss: 0.4915 - accuracy: 0.8025\n",
            "Epoch 12/30\n",
            "25/25 [==============================] - 0s 2ms/step - loss: 0.4314 - accuracy: 0.8687\n",
            "Epoch 13/30\n",
            "25/25 [==============================] - 0s 2ms/step - loss: 0.3878 - accuracy: 0.8975\n",
            "Epoch 14/30\n",
            "25/25 [==============================] - 0s 2ms/step - loss: 0.3405 - accuracy: 0.9162\n",
            "Epoch 15/30\n",
            "25/25 [==============================] - 0s 2ms/step - loss: 0.3026 - accuracy: 0.9413\n",
            "Epoch 16/30\n",
            "25/25 [==============================] - 0s 2ms/step - loss: 0.2626 - accuracy: 0.9675\n",
            "Epoch 17/30\n",
            "25/25 [==============================] - 0s 2ms/step - loss: 0.2367 - accuracy: 0.9588\n",
            "Epoch 18/30\n",
            "25/25 [==============================] - 0s 2ms/step - loss: 0.2114 - accuracy: 0.9762\n",
            "Epoch 19/30\n",
            "25/25 [==============================] - 0s 2ms/step - loss: 0.1970 - accuracy: 0.9737\n",
            "Epoch 20/30\n",
            "25/25 [==============================] - 0s 2ms/step - loss: 0.1779 - accuracy: 0.9750\n",
            "Epoch 21/30\n",
            "25/25 [==============================] - 0s 2ms/step - loss: 0.1919 - accuracy: 0.9575\n",
            "Epoch 22/30\n",
            "25/25 [==============================] - 0s 3ms/step - loss: 0.1555 - accuracy: 0.9775\n",
            "Epoch 23/30\n",
            "25/25 [==============================] - 0s 2ms/step - loss: 0.1479 - accuracy: 0.9775\n",
            "Epoch 24/30\n",
            "25/25 [==============================] - 0s 2ms/step - loss: 0.1300 - accuracy: 0.9850\n",
            "Epoch 25/30\n",
            "25/25 [==============================] - 0s 2ms/step - loss: 0.1445 - accuracy: 0.9638\n",
            "Epoch 26/30\n",
            "25/25 [==============================] - 0s 2ms/step - loss: 0.1122 - accuracy: 0.9875\n",
            "Epoch 27/30\n",
            "25/25 [==============================] - 0s 2ms/step - loss: 0.1083 - accuracy: 0.9875\n",
            "Epoch 28/30\n",
            "25/25 [==============================] - 0s 2ms/step - loss: 0.0962 - accuracy: 0.9875\n",
            "Epoch 29/30\n",
            "25/25 [==============================] - 0s 2ms/step - loss: 0.0875 - accuracy: 0.9925\n",
            "Epoch 30/30\n",
            "25/25 [==============================] - 0s 2ms/step - loss: 0.0814 - accuracy: 0.9925\n"
          ]
        }
      ]
    },
    {
      "cell_type": "code",
      "source": [
        " model_1.evaluate(X_train,y_train)"
      ],
      "metadata": {
        "colab": {
          "base_uri": "https://localhost:8080/"
        },
        "id": "r_c2rRK9JRQH",
        "outputId": "0a5bad9c-a91a-4c97-dffd-0ea61b653739"
      },
      "execution_count": null,
      "outputs": [
        {
          "output_type": "stream",
          "name": "stdout",
          "text": [
            "25/25 [==============================] - 0s 1ms/step - loss: 0.0770 - accuracy: 0.9912\n"
          ]
        },
        {
          "output_type": "execute_result",
          "data": {
            "text/plain": [
              "[0.07699358463287354, 0.9912499785423279]"
            ]
          },
          "metadata": {},
          "execution_count": 187
        }
      ]
    },
    {
      "cell_type": "code",
      "source": [
        "model_1.evaluate(X_test, y_test)"
      ],
      "metadata": {
        "colab": {
          "base_uri": "https://localhost:8080/"
        },
        "id": "lW6XudTEdqmf",
        "outputId": "3ec3d52d-df71-4d2c-d236-d205341f3860"
      },
      "execution_count": null,
      "outputs": [
        {
          "output_type": "stream",
          "name": "stdout",
          "text": [
            "7/7 [==============================] - 0s 3ms/step - loss: 0.1176 - accuracy: 0.9750\n"
          ]
        },
        {
          "output_type": "execute_result",
          "data": {
            "text/plain": [
              "[0.11757922917604446, 0.9750000238418579]"
            ]
          },
          "metadata": {},
          "execution_count": 188
        }
      ]
    },
    {
      "cell_type": "code",
      "source": [
        "history.history"
      ],
      "metadata": {
        "colab": {
          "base_uri": "https://localhost:8080/"
        },
        "id": "3hcvzqT5GfMh",
        "outputId": "9be1cbb5-b27d-4c29-8b2f-34661de6eaa9"
      },
      "execution_count": null,
      "outputs": [
        {
          "output_type": "execute_result",
          "data": {
            "text/plain": [
              "{'accuracy': [0.5637500286102295,\n",
              "  0.5649999976158142,\n",
              "  0.5762500166893005,\n",
              "  0.5724999904632568,\n",
              "  0.5712500214576721,\n",
              "  0.59375,\n",
              "  0.6274999976158142,\n",
              "  0.6962500214576721,\n",
              "  0.7212499976158142,\n",
              "  0.7674999833106995,\n",
              "  0.8025000095367432,\n",
              "  0.8687499761581421,\n",
              "  0.8974999785423279,\n",
              "  0.9162499904632568,\n",
              "  0.9412500262260437,\n",
              "  0.9674999713897705,\n",
              "  0.9587500095367432,\n",
              "  0.9762499928474426,\n",
              "  0.9737499952316284,\n",
              "  0.9750000238418579,\n",
              "  0.9574999809265137,\n",
              "  0.9775000214576721,\n",
              "  0.9775000214576721,\n",
              "  0.9850000143051147,\n",
              "  0.9637500047683716,\n",
              "  0.987500011920929,\n",
              "  0.987500011920929,\n",
              "  0.987500011920929,\n",
              "  0.9925000071525574,\n",
              "  0.9925000071525574],\n",
              " 'loss': [0.6823503375053406,\n",
              "  0.6749704480171204,\n",
              "  0.6679719686508179,\n",
              "  0.6634892821311951,\n",
              "  0.6591553688049316,\n",
              "  0.6474893689155579,\n",
              "  0.631162166595459,\n",
              "  0.6093025803565979,\n",
              "  0.5843716859817505,\n",
              "  0.5442498922348022,\n",
              "  0.4914669394493103,\n",
              "  0.43143412470817566,\n",
              "  0.3877747058868408,\n",
              "  0.3405437469482422,\n",
              "  0.30260780453681946,\n",
              "  0.2626255452632904,\n",
              "  0.23670434951782227,\n",
              "  0.21137742698192596,\n",
              "  0.19696933031082153,\n",
              "  0.17787018418312073,\n",
              "  0.1918765902519226,\n",
              "  0.15553782880306244,\n",
              "  0.1478690505027771,\n",
              "  0.12999549508094788,\n",
              "  0.14445827901363373,\n",
              "  0.11218514293432236,\n",
              "  0.1082722544670105,\n",
              "  0.096188023686409,\n",
              "  0.08745841681957245,\n",
              "  0.08136767148971558]}"
            ]
          },
          "metadata": {},
          "execution_count": 189
        }
      ]
    },
    {
      "cell_type": "code",
      "source": [
        "pd.DataFrame(history.history)"
      ],
      "metadata": {
        "colab": {
          "base_uri": "https://localhost:8080/",
          "height": 989
        },
        "id": "58SSRgZUIoMt",
        "outputId": "e64a7357-9e60-417f-df91-537e6348dd62"
      },
      "execution_count": null,
      "outputs": [
        {
          "output_type": "execute_result",
          "data": {
            "text/plain": [
              "        loss  accuracy\n",
              "0   0.682350   0.56375\n",
              "1   0.674970   0.56500\n",
              "2   0.667972   0.57625\n",
              "3   0.663489   0.57250\n",
              "4   0.659155   0.57125\n",
              "5   0.647489   0.59375\n",
              "6   0.631162   0.62750\n",
              "7   0.609303   0.69625\n",
              "8   0.584372   0.72125\n",
              "9   0.544250   0.76750\n",
              "10  0.491467   0.80250\n",
              "11  0.431434   0.86875\n",
              "12  0.387775   0.89750\n",
              "13  0.340544   0.91625\n",
              "14  0.302608   0.94125\n",
              "15  0.262626   0.96750\n",
              "16  0.236704   0.95875\n",
              "17  0.211377   0.97625\n",
              "18  0.196969   0.97375\n",
              "19  0.177870   0.97500\n",
              "20  0.191877   0.95750\n",
              "21  0.155538   0.97750\n",
              "22  0.147869   0.97750\n",
              "23  0.129995   0.98500\n",
              "24  0.144458   0.96375\n",
              "25  0.112185   0.98750\n",
              "26  0.108272   0.98750\n",
              "27  0.096188   0.98750\n",
              "28  0.087458   0.99250\n",
              "29  0.081368   0.99250"
            ],
            "text/html": [
              "\n",
              "  <div id=\"df-26ddbf3a-19d9-4a2a-82fd-2d7389a923af\">\n",
              "    <div class=\"colab-df-container\">\n",
              "      <div>\n",
              "<style scoped>\n",
              "    .dataframe tbody tr th:only-of-type {\n",
              "        vertical-align: middle;\n",
              "    }\n",
              "\n",
              "    .dataframe tbody tr th {\n",
              "        vertical-align: top;\n",
              "    }\n",
              "\n",
              "    .dataframe thead th {\n",
              "        text-align: right;\n",
              "    }\n",
              "</style>\n",
              "<table border=\"1\" class=\"dataframe\">\n",
              "  <thead>\n",
              "    <tr style=\"text-align: right;\">\n",
              "      <th></th>\n",
              "      <th>loss</th>\n",
              "      <th>accuracy</th>\n",
              "    </tr>\n",
              "  </thead>\n",
              "  <tbody>\n",
              "    <tr>\n",
              "      <th>0</th>\n",
              "      <td>0.682350</td>\n",
              "      <td>0.56375</td>\n",
              "    </tr>\n",
              "    <tr>\n",
              "      <th>1</th>\n",
              "      <td>0.674970</td>\n",
              "      <td>0.56500</td>\n",
              "    </tr>\n",
              "    <tr>\n",
              "      <th>2</th>\n",
              "      <td>0.667972</td>\n",
              "      <td>0.57625</td>\n",
              "    </tr>\n",
              "    <tr>\n",
              "      <th>3</th>\n",
              "      <td>0.663489</td>\n",
              "      <td>0.57250</td>\n",
              "    </tr>\n",
              "    <tr>\n",
              "      <th>4</th>\n",
              "      <td>0.659155</td>\n",
              "      <td>0.57125</td>\n",
              "    </tr>\n",
              "    <tr>\n",
              "      <th>5</th>\n",
              "      <td>0.647489</td>\n",
              "      <td>0.59375</td>\n",
              "    </tr>\n",
              "    <tr>\n",
              "      <th>6</th>\n",
              "      <td>0.631162</td>\n",
              "      <td>0.62750</td>\n",
              "    </tr>\n",
              "    <tr>\n",
              "      <th>7</th>\n",
              "      <td>0.609303</td>\n",
              "      <td>0.69625</td>\n",
              "    </tr>\n",
              "    <tr>\n",
              "      <th>8</th>\n",
              "      <td>0.584372</td>\n",
              "      <td>0.72125</td>\n",
              "    </tr>\n",
              "    <tr>\n",
              "      <th>9</th>\n",
              "      <td>0.544250</td>\n",
              "      <td>0.76750</td>\n",
              "    </tr>\n",
              "    <tr>\n",
              "      <th>10</th>\n",
              "      <td>0.491467</td>\n",
              "      <td>0.80250</td>\n",
              "    </tr>\n",
              "    <tr>\n",
              "      <th>11</th>\n",
              "      <td>0.431434</td>\n",
              "      <td>0.86875</td>\n",
              "    </tr>\n",
              "    <tr>\n",
              "      <th>12</th>\n",
              "      <td>0.387775</td>\n",
              "      <td>0.89750</td>\n",
              "    </tr>\n",
              "    <tr>\n",
              "      <th>13</th>\n",
              "      <td>0.340544</td>\n",
              "      <td>0.91625</td>\n",
              "    </tr>\n",
              "    <tr>\n",
              "      <th>14</th>\n",
              "      <td>0.302608</td>\n",
              "      <td>0.94125</td>\n",
              "    </tr>\n",
              "    <tr>\n",
              "      <th>15</th>\n",
              "      <td>0.262626</td>\n",
              "      <td>0.96750</td>\n",
              "    </tr>\n",
              "    <tr>\n",
              "      <th>16</th>\n",
              "      <td>0.236704</td>\n",
              "      <td>0.95875</td>\n",
              "    </tr>\n",
              "    <tr>\n",
              "      <th>17</th>\n",
              "      <td>0.211377</td>\n",
              "      <td>0.97625</td>\n",
              "    </tr>\n",
              "    <tr>\n",
              "      <th>18</th>\n",
              "      <td>0.196969</td>\n",
              "      <td>0.97375</td>\n",
              "    </tr>\n",
              "    <tr>\n",
              "      <th>19</th>\n",
              "      <td>0.177870</td>\n",
              "      <td>0.97500</td>\n",
              "    </tr>\n",
              "    <tr>\n",
              "      <th>20</th>\n",
              "      <td>0.191877</td>\n",
              "      <td>0.95750</td>\n",
              "    </tr>\n",
              "    <tr>\n",
              "      <th>21</th>\n",
              "      <td>0.155538</td>\n",
              "      <td>0.97750</td>\n",
              "    </tr>\n",
              "    <tr>\n",
              "      <th>22</th>\n",
              "      <td>0.147869</td>\n",
              "      <td>0.97750</td>\n",
              "    </tr>\n",
              "    <tr>\n",
              "      <th>23</th>\n",
              "      <td>0.129995</td>\n",
              "      <td>0.98500</td>\n",
              "    </tr>\n",
              "    <tr>\n",
              "      <th>24</th>\n",
              "      <td>0.144458</td>\n",
              "      <td>0.96375</td>\n",
              "    </tr>\n",
              "    <tr>\n",
              "      <th>25</th>\n",
              "      <td>0.112185</td>\n",
              "      <td>0.98750</td>\n",
              "    </tr>\n",
              "    <tr>\n",
              "      <th>26</th>\n",
              "      <td>0.108272</td>\n",
              "      <td>0.98750</td>\n",
              "    </tr>\n",
              "    <tr>\n",
              "      <th>27</th>\n",
              "      <td>0.096188</td>\n",
              "      <td>0.98750</td>\n",
              "    </tr>\n",
              "    <tr>\n",
              "      <th>28</th>\n",
              "      <td>0.087458</td>\n",
              "      <td>0.99250</td>\n",
              "    </tr>\n",
              "    <tr>\n",
              "      <th>29</th>\n",
              "      <td>0.081368</td>\n",
              "      <td>0.99250</td>\n",
              "    </tr>\n",
              "  </tbody>\n",
              "</table>\n",
              "</div>\n",
              "      <button class=\"colab-df-convert\" onclick=\"convertToInteractive('df-26ddbf3a-19d9-4a2a-82fd-2d7389a923af')\"\n",
              "              title=\"Convert this dataframe to an interactive table.\"\n",
              "              style=\"display:none;\">\n",
              "        \n",
              "  <svg xmlns=\"http://www.w3.org/2000/svg\" height=\"24px\"viewBox=\"0 0 24 24\"\n",
              "       width=\"24px\">\n",
              "    <path d=\"M0 0h24v24H0V0z\" fill=\"none\"/>\n",
              "    <path d=\"M18.56 5.44l.94 2.06.94-2.06 2.06-.94-2.06-.94-.94-2.06-.94 2.06-2.06.94zm-11 1L8.5 8.5l.94-2.06 2.06-.94-2.06-.94L8.5 2.5l-.94 2.06-2.06.94zm10 10l.94 2.06.94-2.06 2.06-.94-2.06-.94-.94-2.06-.94 2.06-2.06.94z\"/><path d=\"M17.41 7.96l-1.37-1.37c-.4-.4-.92-.59-1.43-.59-.52 0-1.04.2-1.43.59L10.3 9.45l-7.72 7.72c-.78.78-.78 2.05 0 2.83L4 21.41c.39.39.9.59 1.41.59.51 0 1.02-.2 1.41-.59l7.78-7.78 2.81-2.81c.8-.78.8-2.07 0-2.86zM5.41 20L4 18.59l7.72-7.72 1.47 1.35L5.41 20z\"/>\n",
              "  </svg>\n",
              "      </button>\n",
              "      \n",
              "  <style>\n",
              "    .colab-df-container {\n",
              "      display:flex;\n",
              "      flex-wrap:wrap;\n",
              "      gap: 12px;\n",
              "    }\n",
              "\n",
              "    .colab-df-convert {\n",
              "      background-color: #E8F0FE;\n",
              "      border: none;\n",
              "      border-radius: 50%;\n",
              "      cursor: pointer;\n",
              "      display: none;\n",
              "      fill: #1967D2;\n",
              "      height: 32px;\n",
              "      padding: 0 0 0 0;\n",
              "      width: 32px;\n",
              "    }\n",
              "\n",
              "    .colab-df-convert:hover {\n",
              "      background-color: #E2EBFA;\n",
              "      box-shadow: 0px 1px 2px rgba(60, 64, 67, 0.3), 0px 1px 3px 1px rgba(60, 64, 67, 0.15);\n",
              "      fill: #174EA6;\n",
              "    }\n",
              "\n",
              "    [theme=dark] .colab-df-convert {\n",
              "      background-color: #3B4455;\n",
              "      fill: #D2E3FC;\n",
              "    }\n",
              "\n",
              "    [theme=dark] .colab-df-convert:hover {\n",
              "      background-color: #434B5C;\n",
              "      box-shadow: 0px 1px 3px 1px rgba(0, 0, 0, 0.15);\n",
              "      filter: drop-shadow(0px 1px 2px rgba(0, 0, 0, 0.3));\n",
              "      fill: #FFFFFF;\n",
              "    }\n",
              "  </style>\n",
              "\n",
              "      <script>\n",
              "        const buttonEl =\n",
              "          document.querySelector('#df-26ddbf3a-19d9-4a2a-82fd-2d7389a923af button.colab-df-convert');\n",
              "        buttonEl.style.display =\n",
              "          google.colab.kernel.accessAllowed ? 'block' : 'none';\n",
              "\n",
              "        async function convertToInteractive(key) {\n",
              "          const element = document.querySelector('#df-26ddbf3a-19d9-4a2a-82fd-2d7389a923af');\n",
              "          const dataTable =\n",
              "            await google.colab.kernel.invokeFunction('convertToInteractive',\n",
              "                                                     [key], {});\n",
              "          if (!dataTable) return;\n",
              "\n",
              "          const docLinkHtml = 'Like what you see? Visit the ' +\n",
              "            '<a target=\"_blank\" href=https://colab.research.google.com/notebooks/data_table.ipynb>data table notebook</a>'\n",
              "            + ' to learn more about interactive tables.';\n",
              "          element.innerHTML = '';\n",
              "          dataTable['output_type'] = 'display_data';\n",
              "          await google.colab.output.renderOutput(dataTable, element);\n",
              "          const docLink = document.createElement('div');\n",
              "          docLink.innerHTML = docLinkHtml;\n",
              "          element.appendChild(docLink);\n",
              "        }\n",
              "      </script>\n",
              "    </div>\n",
              "  </div>\n",
              "  "
            ]
          },
          "metadata": {},
          "execution_count": 190
        }
      ]
    },
    {
      "cell_type": "markdown",
      "source": [
        "### Plot loss curves"
      ],
      "metadata": {
        "id": "gegmyCDfIyq0"
      }
    },
    {
      "cell_type": "code",
      "source": [
        "pd.DataFrame(history.history).plot()"
      ],
      "metadata": {
        "colab": {
          "base_uri": "https://localhost:8080/",
          "height": 283
        },
        "id": "XrQLBhJ7ImoY",
        "outputId": "039a6c15-4983-42e3-e4d7-f997eab4932f"
      },
      "execution_count": null,
      "outputs": [
        {
          "output_type": "execute_result",
          "data": {
            "text/plain": [
              "<matplotlib.axes._subplots.AxesSubplot at 0x7fa76197db50>"
            ]
          },
          "metadata": {},
          "execution_count": 191
        },
        {
          "output_type": "display_data",
          "data": {
            "text/plain": [
              "<Figure size 432x288 with 1 Axes>"
            ],
            "image/png": "[encoded data removed]"
          },
          "metadata": {
            "needs_background": "light"
          }
        }
      ]
    },
    {
      "cell_type": "markdown",
      "source": [
        "### Learning rate callback"
      ],
      "metadata": {
        "id": "F7WhXJKhLJsu"
      }
    },
    {
      "cell_type": "code",
      "source": [
        "a = 1e-4*10**(1/20)\n",
        "a"
      ],
      "metadata": {
        "colab": {
          "base_uri": "https://localhost:8080/"
        },
        "id": "fVupPA8GPio1",
        "outputId": "27a85367-e772-4d07-cb5d-4d55da32a4d2"
      },
      "execution_count": null,
      "outputs": [
        {
          "output_type": "execute_result",
          "data": {
            "text/plain": [
              "0.00011220184543019634"
            ]
          },
          "metadata": {},
          "execution_count": 192
        }
      ]
    },
    {
      "cell_type": "code",
      "source": [
        "from gc import callbacks\n",
        "tf.random.set_seed(42)\n",
        "\n",
        "model_2 = tf.keras.Sequential([\n",
        "                               tf.keras.layers.Dense(4, activation='relu'),\n",
        "                               tf.keras.layers.Dense(4, activation='relu'),\n",
        "                               tf.keras.layers.Dense(1, activation='sigmoid')\n",
        "\n",
        "])\n",
        "\n",
        "model_2.compile(loss='binary_crossentropy', optimizer = tf.keras.optimizers.Adam(),metrics = ['accuracy'])\n",
        "\n",
        "lr_scheduler = tf.keras.callbacks.LearningRateScheduler(lambda epoch: 1e-4*10**(epoch/20))  #for every epoch learning rate changes  1e-4--10(-4) times(epoch/20)\n",
        "\n",
        "history_2 = model_2.fit(X_train,y_train,epochs=100, callbacks = [lr_scheduler])\n"
      ],
      "metadata": {
        "colab": {
          "base_uri": "https://localhost:8080/"
        },
        "id": "L9tu3cmGLIOL",
        "outputId": "36b417c1-7b3d-46ae-cfed-5e0457a6741d"
      },
      "execution_count": null,
      "outputs": [
        {
          "output_type": "stream",
          "name": "stdout",
          "text": [
            "Epoch 1/100\n",
            "25/25 [==============================] - 0s 2ms/step - loss: 0.6917 - accuracy: 0.5000 - lr: 1.0000e-04\n",
            "Epoch 2/100\n",
            "25/25 [==============================] - 0s 2ms/step - loss: 0.6910 - accuracy: 0.4988 - lr: 1.1220e-04\n",
            "Epoch 3/100\n",
            "25/25 [==============================] - 0s 2ms/step - loss: 0.6903 - accuracy: 0.4975 - lr: 1.2589e-04\n",
            "Epoch 4/100\n",
            "25/25 [==============================] - 0s 2ms/step - loss: 0.6897 - accuracy: 0.5075 - lr: 1.4125e-04\n",
            "Epoch 5/100\n",
            "25/25 [==============================] - 0s 1ms/step - loss: 0.6888 - accuracy: 0.5063 - lr: 1.5849e-04\n",
            "Epoch 6/100\n",
            "25/25 [==============================] - 0s 2ms/step - loss: 0.6881 - accuracy: 0.5075 - lr: 1.7783e-04\n",
            "Epoch 7/100\n",
            "25/25 [==============================] - 0s 2ms/step - loss: 0.6873 - accuracy: 0.5050 - lr: 1.9953e-04\n",
            "Epoch 8/100\n",
            "25/25 [==============================] - 0s 2ms/step - loss: 0.6864 - accuracy: 0.5088 - lr: 2.2387e-04\n",
            "Epoch 9/100\n",
            "25/25 [==============================] - 0s 2ms/step - loss: 0.6856 - accuracy: 0.5038 - lr: 2.5119e-04\n",
            "Epoch 10/100\n",
            "25/25 [==============================] - 0s 2ms/step - loss: 0.6849 - accuracy: 0.5100 - lr: 2.8184e-04\n",
            "Epoch 11/100\n",
            "25/25 [==============================] - 0s 2ms/step - loss: 0.6840 - accuracy: 0.5238 - lr: 3.1623e-04\n",
            "Epoch 12/100\n",
            "25/25 [==============================] - 0s 2ms/step - loss: 0.6833 - accuracy: 0.5275 - lr: 3.5481e-04\n",
            "Epoch 13/100\n",
            "25/25 [==============================] - 0s 2ms/step - loss: 0.6827 - accuracy: 0.5200 - lr: 3.9811e-04\n",
            "Epoch 14/100\n",
            "25/25 [==============================] - 0s 2ms/step - loss: 0.6820 - accuracy: 0.5288 - lr: 4.4668e-04\n",
            "Epoch 15/100\n",
            "25/25 [==============================] - 0s 2ms/step - loss: 0.6815 - accuracy: 0.5263 - lr: 5.0119e-04\n",
            "Epoch 16/100\n",
            "25/25 [==============================] - 0s 2ms/step - loss: 0.6809 - accuracy: 0.5337 - lr: 5.6234e-04\n",
            "Epoch 17/100\n",
            "25/25 [==============================] - 0s 2ms/step - loss: 0.6804 - accuracy: 0.5263 - lr: 6.3096e-04\n",
            "Epoch 18/100\n",
            "25/25 [==============================] - 0s 2ms/step - loss: 0.6798 - accuracy: 0.5375 - lr: 7.0795e-04\n",
            "Epoch 19/100\n",
            "25/25 [==============================] - 0s 2ms/step - loss: 0.6794 - accuracy: 0.5375 - lr: 7.9433e-04\n",
            "Epoch 20/100\n",
            "25/25 [==============================] - 0s 2ms/step - loss: 0.6789 - accuracy: 0.5412 - lr: 8.9125e-04\n",
            "Epoch 21/100\n",
            "25/25 [==============================] - 0s 2ms/step - loss: 0.6782 - accuracy: 0.5525 - lr: 0.0010\n",
            "Epoch 22/100\n",
            "25/25 [==============================] - 0s 2ms/step - loss: 0.6777 - accuracy: 0.5425 - lr: 0.0011\n",
            "Epoch 23/100\n",
            "25/25 [==============================] - 0s 2ms/step - loss: 0.6770 - accuracy: 0.5500 - lr: 0.0013\n",
            "Epoch 24/100\n",
            "25/25 [==============================] - 0s 2ms/step - loss: 0.6764 - accuracy: 0.5475 - lr: 0.0014\n",
            "Epoch 25/100\n",
            "25/25 [==============================] - 0s 2ms/step - loss: 0.6758 - accuracy: 0.5550 - lr: 0.0016\n",
            "Epoch 26/100\n",
            "25/25 [==============================] - 0s 2ms/step - loss: 0.6747 - accuracy: 0.5650 - lr: 0.0018\n",
            "Epoch 27/100\n",
            "25/25 [==============================] - 0s 2ms/step - loss: 0.6736 - accuracy: 0.5500 - lr: 0.0020\n",
            "Epoch 28/100\n",
            "25/25 [==============================] - 0s 2ms/step - loss: 0.6728 - accuracy: 0.5612 - lr: 0.0022\n",
            "Epoch 29/100\n",
            "25/25 [==============================] - 0s 2ms/step - loss: 0.6711 - accuracy: 0.5625 - lr: 0.0025\n",
            "Epoch 30/100\n",
            "25/25 [==============================] - 0s 2ms/step - loss: 0.6695 - accuracy: 0.5638 - lr: 0.0028\n",
            "Epoch 31/100\n",
            "25/25 [==============================] - 0s 2ms/step - loss: 0.6681 - accuracy: 0.5675 - lr: 0.0032\n",
            "Epoch 32/100\n",
            "25/25 [==============================] - 0s 2ms/step - loss: 0.6660 - accuracy: 0.5800 - lr: 0.0035\n",
            "Epoch 33/100\n",
            "25/25 [==============================] - 0s 2ms/step - loss: 0.6639 - accuracy: 0.5788 - lr: 0.0040\n",
            "Epoch 34/100\n",
            "25/25 [==============================] - 0s 2ms/step - loss: 0.6618 - accuracy: 0.5688 - lr: 0.0045\n",
            "Epoch 35/100\n",
            "25/25 [==============================] - 0s 2ms/step - loss: 0.6591 - accuracy: 0.5838 - lr: 0.0050\n",
            "Epoch 36/100\n",
            "25/25 [==============================] - 0s 2ms/step - loss: 0.6543 - accuracy: 0.5788 - lr: 0.0056\n",
            "Epoch 37/100\n",
            "25/25 [==============================] - 0s 2ms/step - loss: 0.6484 - accuracy: 0.6037 - lr: 0.0063\n",
            "Epoch 38/100\n",
            "25/25 [==============================] - 0s 2ms/step - loss: 0.6379 - accuracy: 0.6250 - lr: 0.0071\n",
            "Epoch 39/100\n",
            "25/25 [==============================] - 0s 2ms/step - loss: 0.6198 - accuracy: 0.6662 - lr: 0.0079\n",
            "Epoch 40/100\n",
            "25/25 [==============================] - 0s 2ms/step - loss: 0.5982 - accuracy: 0.7212 - lr: 0.0089\n",
            "Epoch 41/100\n",
            "25/25 [==============================] - 0s 2ms/step - loss: 0.5521 - accuracy: 0.7287 - lr: 0.0100\n",
            "Epoch 42/100\n",
            "25/25 [==============================] - 0s 2ms/step - loss: 0.5008 - accuracy: 0.7875 - lr: 0.0112\n",
            "Epoch 43/100\n",
            "25/25 [==============================] - 0s 1ms/step - loss: 0.4287 - accuracy: 0.8375 - lr: 0.0126\n",
            "Epoch 44/100\n",
            "25/25 [==============================] - 0s 2ms/step - loss: 0.3186 - accuracy: 0.9413 - lr: 0.0141\n",
            "Epoch 45/100\n",
            "25/25 [==============================] - 0s 2ms/step - loss: 0.2304 - accuracy: 0.9675 - lr: 0.0158\n",
            "Epoch 46/100\n",
            "25/25 [==============================] - 0s 1ms/step - loss: 0.1663 - accuracy: 0.9800 - lr: 0.0178\n",
            "Epoch 47/100\n",
            "25/25 [==============================] - 0s 2ms/step - loss: 0.1376 - accuracy: 0.9737 - lr: 0.0200\n",
            "Epoch 48/100\n",
            "25/25 [==============================] - 0s 2ms/step - loss: 0.1257 - accuracy: 0.9663 - lr: 0.0224\n",
            "Epoch 49/100\n",
            "25/25 [==============================] - 0s 2ms/step - loss: 0.1545 - accuracy: 0.9463 - lr: 0.0251\n",
            "Epoch 50/100\n",
            "25/25 [==============================] - 0s 2ms/step - loss: 0.0957 - accuracy: 0.9663 - lr: 0.0282\n",
            "Epoch 51/100\n",
            "25/25 [==============================] - 0s 2ms/step - loss: 0.0699 - accuracy: 0.9787 - lr: 0.0316\n",
            "Epoch 52/100\n",
            "25/25 [==============================] - 0s 2ms/step - loss: 0.0646 - accuracy: 0.9837 - lr: 0.0355\n",
            "Epoch 53/100\n",
            "25/25 [==============================] - 0s 2ms/step - loss: 0.0444 - accuracy: 0.9887 - lr: 0.0398\n",
            "Epoch 54/100\n",
            "25/25 [==============================] - 0s 2ms/step - loss: 0.0577 - accuracy: 0.9825 - lr: 0.0447\n",
            "Epoch 55/100\n",
            "25/25 [==============================] - 0s 2ms/step - loss: 0.0436 - accuracy: 0.9912 - lr: 0.0501\n",
            "Epoch 56/100\n",
            "25/25 [==============================] - 0s 1ms/step - loss: 0.0501 - accuracy: 0.9775 - lr: 0.0562\n",
            "Epoch 57/100\n",
            "25/25 [==============================] - 0s 1ms/step - loss: 0.1880 - accuracy: 0.9362 - lr: 0.0631\n",
            "Epoch 58/100\n",
            "25/25 [==============================] - 0s 2ms/step - loss: 0.1273 - accuracy: 0.9563 - lr: 0.0708\n",
            "Epoch 59/100\n",
            "25/25 [==============================] - 0s 2ms/step - loss: 0.1519 - accuracy: 0.9463 - lr: 0.0794\n",
            "Epoch 60/100\n",
            "25/25 [==============================] - 0s 2ms/step - loss: 0.3757 - accuracy: 0.8925 - lr: 0.0891\n",
            "Epoch 61/100\n",
            "25/25 [==============================] - 0s 2ms/step - loss: 0.1926 - accuracy: 0.9212 - lr: 0.1000\n",
            "Epoch 62/100\n",
            "25/25 [==============================] - 0s 2ms/step - loss: 0.1409 - accuracy: 0.9400 - lr: 0.1122\n",
            "Epoch 63/100\n",
            "25/25 [==============================] - 0s 2ms/step - loss: 0.1611 - accuracy: 0.9312 - lr: 0.1259\n",
            "Epoch 64/100\n",
            "25/25 [==============================] - 0s 2ms/step - loss: 0.2397 - accuracy: 0.9187 - lr: 0.1413\n",
            "Epoch 65/100\n",
            "25/25 [==============================] - 0s 2ms/step - loss: 0.0896 - accuracy: 0.9600 - lr: 0.1585\n",
            "Epoch 66/100\n",
            "25/25 [==============================] - 0s 2ms/step - loss: 0.0694 - accuracy: 0.9775 - lr: 0.1778\n",
            "Epoch 67/100\n",
            "25/25 [==============================] - 0s 2ms/step - loss: 0.1024 - accuracy: 0.9663 - lr: 0.1995\n",
            "Epoch 68/100\n",
            "25/25 [==============================] - 0s 2ms/step - loss: 0.4158 - accuracy: 0.8550 - lr: 0.2239\n",
            "Epoch 69/100\n",
            "25/25 [==============================] - 0s 2ms/step - loss: 0.1580 - accuracy: 0.9425 - lr: 0.2512\n",
            "Epoch 70/100\n",
            "25/25 [==============================] - 0s 2ms/step - loss: 0.4366 - accuracy: 0.8800 - lr: 0.2818\n",
            "Epoch 71/100\n",
            "25/25 [==============================] - 0s 2ms/step - loss: 0.1844 - accuracy: 0.9325 - lr: 0.3162\n",
            "Epoch 72/100\n",
            "25/25 [==============================] - 0s 2ms/step - loss: 0.2199 - accuracy: 0.9038 - lr: 0.3548\n",
            "Epoch 73/100\n",
            "25/25 [==============================] - 0s 2ms/step - loss: 0.0864 - accuracy: 0.9688 - lr: 0.3981\n",
            "Epoch 74/100\n",
            "25/25 [==============================] - 0s 2ms/step - loss: 0.0608 - accuracy: 0.9800 - lr: 0.4467\n",
            "Epoch 75/100\n",
            "25/25 [==============================] - 0s 1ms/step - loss: 0.1342 - accuracy: 0.9588 - lr: 0.5012\n",
            "Epoch 76/100\n",
            "25/25 [==============================] - 0s 2ms/step - loss: 0.8495 - accuracy: 0.6875 - lr: 0.5623\n",
            "Epoch 77/100\n",
            "25/25 [==============================] - 0s 2ms/step - loss: 0.5402 - accuracy: 0.7050 - lr: 0.6310\n",
            "Epoch 78/100\n",
            "25/25 [==============================] - 0s 2ms/step - loss: 0.5840 - accuracy: 0.6500 - lr: 0.7079\n",
            "Epoch 79/100\n",
            "25/25 [==============================] - 0s 2ms/step - loss: 0.5479 - accuracy: 0.6538 - lr: 0.7943\n",
            "Epoch 80/100\n",
            "25/25 [==============================] - 0s 2ms/step - loss: 0.4302 - accuracy: 0.8363 - lr: 0.8913\n",
            "Epoch 81/100\n",
            "25/25 [==============================] - 0s 2ms/step - loss: 0.7839 - accuracy: 0.5888 - lr: 1.0000\n",
            "Epoch 82/100\n",
            "25/25 [==============================] - 0s 1ms/step - loss: 0.7085 - accuracy: 0.4550 - lr: 1.1220\n",
            "Epoch 83/100\n",
            "25/25 [==============================] - 0s 2ms/step - loss: 0.7067 - accuracy: 0.4700 - lr: 1.2589\n",
            "Epoch 84/100\n",
            "25/25 [==============================] - 0s 2ms/step - loss: 0.7056 - accuracy: 0.5075 - lr: 1.4125\n",
            "Epoch 85/100\n",
            "25/25 [==============================] - 0s 2ms/step - loss: 0.7265 - accuracy: 0.5200 - lr: 1.5849\n",
            "Epoch 86/100\n",
            "25/25 [==============================] - 0s 2ms/step - loss: 0.7406 - accuracy: 0.4825 - lr: 1.7783\n",
            "Epoch 87/100\n",
            "25/25 [==============================] - 0s 2ms/step - loss: 0.7222 - accuracy: 0.4975 - lr: 1.9953\n",
            "Epoch 88/100\n",
            "25/25 [==============================] - 0s 2ms/step - loss: 0.7091 - accuracy: 0.5075 - lr: 2.2387\n",
            "Epoch 89/100\n",
            "25/25 [==============================] - 0s 2ms/step - loss: 0.7164 - accuracy: 0.4975 - lr: 2.5119\n",
            "Epoch 90/100\n",
            "25/25 [==============================] - 0s 2ms/step - loss: 0.7207 - accuracy: 0.5200 - lr: 2.8184\n",
            "Epoch 91/100\n",
            "25/25 [==============================] - 0s 2ms/step - loss: 0.7209 - accuracy: 0.5050 - lr: 3.1623\n",
            "Epoch 92/100\n",
            "25/25 [==============================] - 0s 2ms/step - loss: 0.7682 - accuracy: 0.4725 - lr: 3.5481\n",
            "Epoch 93/100\n",
            "25/25 [==============================] - 0s 2ms/step - loss: 0.7709 - accuracy: 0.4600 - lr: 3.9811\n",
            "Epoch 94/100\n",
            "25/25 [==============================] - 0s 2ms/step - loss: 0.7833 - accuracy: 0.5150 - lr: 4.4668\n",
            "Epoch 95/100\n",
            "25/25 [==============================] - 0s 2ms/step - loss: 0.7714 - accuracy: 0.4925 - lr: 5.0119\n",
            "Epoch 96/100\n",
            "25/25 [==============================] - 0s 2ms/step - loss: 0.8721 - accuracy: 0.5050 - lr: 5.6234\n",
            "Epoch 97/100\n",
            "25/25 [==============================] - 0s 2ms/step - loss: 0.8123 - accuracy: 0.4750 - lr: 6.3096\n",
            "Epoch 98/100\n",
            "25/25 [==============================] - 0s 2ms/step - loss: 0.8427 - accuracy: 0.5000 - lr: 7.0795\n",
            "Epoch 99/100\n",
            "25/25 [==============================] - 0s 2ms/step - loss: 0.8988 - accuracy: 0.5100 - lr: 7.9433\n",
            "Epoch 100/100\n",
            "25/25 [==============================] - 0s 2ms/step - loss: 0.8096 - accuracy: 0.5125 - lr: 8.9125\n"
          ]
        }
      ]
    },
    {
      "cell_type": "code",
      "source": [
        "\n",
        "pd.DataFrame(history_2.history).plot()"
      ],
      "metadata": {
        "colab": {
          "base_uri": "https://localhost:8080/",
          "height": 283
        },
        "id": "Wp7XA0bQM-lz",
        "outputId": "f544a811-903e-4674-d3eb-84fb6b7ebfe8"
      },
      "execution_count": null,
      "outputs": [
        {
          "output_type": "execute_result",
          "data": {
            "text/plain": [
              "<matplotlib.axes._subplots.AxesSubplot at 0x7fa76023a190>"
            ]
          },
          "metadata": {},
          "execution_count": 194
        },
        {
          "output_type": "display_data",
          "data": {
            "text/plain": [
              "<Figure size 432x288 with 1 Axes>"
            ],
            "image/png": "[encoded data removed]"
          },
          "metadata": {
            "needs_background": "light"
          }
        }
      ]
    },
    {
      "cell_type": "code",
      "source": [
        "history.history.keys()"
      ],
      "metadata": {
        "colab": {
          "base_uri": "https://localhost:8080/"
        },
        "id": "j7LMefmhNlfM",
        "outputId": "5e5fe157-773f-4c06-aaaa-8b8599cfe20f"
      },
      "execution_count": null,
      "outputs": [
        {
          "output_type": "execute_result",
          "data": {
            "text/plain": [
              "dict_keys(['loss', 'accuracy'])"
            ]
          },
          "metadata": {},
          "execution_count": 195
        }
      ]
    },
    {
      "cell_type": "code",
      "source": [
        "import numpy as np\n",
        "lrs = 1e-4 * (10 ** (np.arange(100)/20))"
      ],
      "metadata": {
        "id": "G2gJJiOYQDXV"
      },
      "execution_count": null,
      "outputs": []
    },
    {
      "cell_type": "code",
      "source": [
        "lrs"
      ],
      "metadata": {
        "colab": {
          "base_uri": "https://localhost:8080/"
        },
        "id": "rY2pua7qQLGQ",
        "outputId": "225a88e1-1aaa-4ede-9bb5-6114588fb00b"
      },
      "execution_count": null,
      "outputs": [
        {
          "output_type": "execute_result",
          "data": {
            "text/plain": [
              "array([1.00000000e-04, 1.12201845e-04, 1.25892541e-04, 1.41253754e-04,\n",
              "       1.58489319e-04, 1.77827941e-04, 1.99526231e-04, 2.23872114e-04,\n",
              "       2.51188643e-04, 2.81838293e-04, 3.16227766e-04, 3.54813389e-04,\n",
              "       3.98107171e-04, 4.46683592e-04, 5.01187234e-04, 5.62341325e-04,\n",
              "       6.30957344e-04, 7.07945784e-04, 7.94328235e-04, 8.91250938e-04,\n",
              "       1.00000000e-03, 1.12201845e-03, 1.25892541e-03, 1.41253754e-03,\n",
              "       1.58489319e-03, 1.77827941e-03, 1.99526231e-03, 2.23872114e-03,\n",
              "       2.51188643e-03, 2.81838293e-03, 3.16227766e-03, 3.54813389e-03,\n",
              "       3.98107171e-03, 4.46683592e-03, 5.01187234e-03, 5.62341325e-03,\n",
              "       6.30957344e-03, 7.07945784e-03, 7.94328235e-03, 8.91250938e-03,\n",
              "       1.00000000e-02, 1.12201845e-02, 1.25892541e-02, 1.41253754e-02,\n",
              "       1.58489319e-02, 1.77827941e-02, 1.99526231e-02, 2.23872114e-02,\n",
              "       2.51188643e-02, 2.81838293e-02, 3.16227766e-02, 3.54813389e-02,\n",
              "       3.98107171e-02, 4.46683592e-02, 5.01187234e-02, 5.62341325e-02,\n",
              "       6.30957344e-02, 7.07945784e-02, 7.94328235e-02, 8.91250938e-02,\n",
              "       1.00000000e-01, 1.12201845e-01, 1.25892541e-01, 1.41253754e-01,\n",
              "       1.58489319e-01, 1.77827941e-01, 1.99526231e-01, 2.23872114e-01,\n",
              "       2.51188643e-01, 2.81838293e-01, 3.16227766e-01, 3.54813389e-01,\n",
              "       3.98107171e-01, 4.46683592e-01, 5.01187234e-01, 5.62341325e-01,\n",
              "       6.30957344e-01, 7.07945784e-01, 7.94328235e-01, 8.91250938e-01,\n",
              "       1.00000000e+00, 1.12201845e+00, 1.25892541e+00, 1.41253754e+00,\n",
              "       1.58489319e+00, 1.77827941e+00, 1.99526231e+00, 2.23872114e+00,\n",
              "       2.51188643e+00, 2.81838293e+00, 3.16227766e+00, 3.54813389e+00,\n",
              "       3.98107171e+00, 4.46683592e+00, 5.01187234e+00, 5.62341325e+00,\n",
              "       6.30957344e+00, 7.07945784e+00, 7.94328235e+00, 8.91250938e+00])"
            ]
          },
          "metadata": {},
          "execution_count": 197
        }
      ]
    },
    {
      "cell_type": "code",
      "source": [
        "len(lrs)"
      ],
      "metadata": {
        "colab": {
          "base_uri": "https://localhost:8080/"
        },
        "id": "oWZ0gG1ZRE-a",
        "outputId": "f7132d23-d5ac-4e52-a42d-b6d2ff5230c7"
      },
      "execution_count": null,
      "outputs": [
        {
          "output_type": "execute_result",
          "data": {
            "text/plain": [
              "100"
            ]
          },
          "metadata": {},
          "execution_count": 198
        }
      ]
    },
    {
      "cell_type": "code",
      "source": [
        "plt.figure(figsize=(10,10))\n",
        "\n",
        "plt.semilogx(lrs,history_2.history['loss'])"
      ],
      "metadata": {
        "colab": {
          "base_uri": "https://localhost:8080/",
          "height": 613
        },
        "id": "_0YLc6UFQv9B",
        "outputId": "4c1de5bb-2449-471b-9714-9d12b0c1978c"
      },
      "execution_count": null,
      "outputs": [
        {
          "output_type": "execute_result",
          "data": {
            "text/plain": [
              "[<matplotlib.lines.Line2D at 0x7fa7601b73d0>]"
            ]
          },
          "metadata": {},
          "execution_count": 199
        },
        {
          "output_type": "display_data",
          "data": {
            "text/plain": [
              "<Figure size 720x720 with 1 Axes>"
            ],
            "image/png": "[encoded data removed]"
          },
          "metadata": {
            "needs_background": "light"
          }
        }
      ]
    },
    {
      "cell_type": "code",
      "source": [
        "tf.random.set_seed(42)\n",
        "\n",
        "model_3 = tf.keras.Sequential([\n",
        "                               tf.keras.layers.Dense(4,activation='relu'),\n",
        "                               tf.keras.layers.Dense(4,activation='relu'),\n",
        "                               tf.keras.layers.Dense(1,activation='sigmoid')\n",
        "                               \n",
        "])\n",
        "\n",
        "\n",
        "model_3.compile(loss='binary_crossentropy', optimizer = tf.keras.optimizers.Adam(lr=0.02),metrics=['accuracy']) # for\n",
        "\n",
        "history_3 = model_3.fit(X_train,y_train,epochs=45)"
      ],
      "metadata": {
        "colab": {
          "base_uri": "https://localhost:8080/"
        },
        "id": "Umnoq0TMf0dp",
        "outputId": "6bafb39c-a9f6-4b45-a1a3-a743b9d05049"
      },
      "execution_count": null,
      "outputs": [
        {
          "output_type": "stream",
          "name": "stdout",
          "text": [
            "Epoch 1/45\n"
          ]
        },
        {
          "output_type": "stream",
          "name": "stderr",
          "text": [
            "/usr/local/lib/python3.7/dist-packages/keras/optimizer_v2/adam.py:105: UserWarning: The `lr` argument is deprecated, use `learning_rate` instead.\n",
            "  super(Adam, self).__init__(name, **kwargs)\n"
          ]
        },
        {
          "output_type": "stream",
          "name": "stdout",
          "text": [
            "25/25 [==============================] - 0s 2ms/step - loss: 0.6801 - accuracy: 0.5863\n",
            "Epoch 2/45\n",
            "25/25 [==============================] - 0s 2ms/step - loss: 0.6694 - accuracy: 0.5888\n",
            "Epoch 3/45\n",
            "25/25 [==============================] - 0s 2ms/step - loss: 0.6533 - accuracy: 0.6075\n",
            "Epoch 4/45\n",
            "25/25 [==============================] - 0s 1ms/step - loss: 0.6342 - accuracy: 0.6475\n",
            "Epoch 5/45\n",
            "25/25 [==============================] - 0s 1ms/step - loss: 0.5787 - accuracy: 0.7200\n",
            "Epoch 6/45\n",
            "25/25 [==============================] - 0s 2ms/step - loss: 0.5361 - accuracy: 0.7500\n",
            "Epoch 7/45\n",
            "25/25 [==============================] - 0s 2ms/step - loss: 0.4275 - accuracy: 0.8662\n",
            "Epoch 8/45\n",
            "25/25 [==============================] - 0s 2ms/step - loss: 0.3479 - accuracy: 0.9137\n",
            "Epoch 9/45\n",
            "25/25 [==============================] - 0s 2ms/step - loss: 0.2778 - accuracy: 0.9350\n",
            "Epoch 10/45\n",
            "25/25 [==============================] - 0s 2ms/step - loss: 0.2362 - accuracy: 0.9538\n",
            "Epoch 11/45\n",
            "25/25 [==============================] - 0s 2ms/step - loss: 0.1945 - accuracy: 0.9663\n",
            "Epoch 12/45\n",
            "25/25 [==============================] - 0s 2ms/step - loss: 0.1770 - accuracy: 0.9625\n",
            "Epoch 13/45\n",
            "25/25 [==============================] - 0s 2ms/step - loss: 0.1562 - accuracy: 0.9688\n",
            "Epoch 14/45\n",
            "25/25 [==============================] - 0s 2ms/step - loss: 0.1494 - accuracy: 0.9663\n",
            "Epoch 15/45\n",
            "25/25 [==============================] - 0s 2ms/step - loss: 0.1294 - accuracy: 0.9750\n",
            "Epoch 16/45\n",
            "25/25 [==============================] - 0s 2ms/step - loss: 0.1052 - accuracy: 0.9800\n",
            "Epoch 17/45\n",
            "25/25 [==============================] - 0s 2ms/step - loss: 0.1003 - accuracy: 0.9812\n",
            "Epoch 18/45\n",
            "25/25 [==============================] - 0s 2ms/step - loss: 0.0917 - accuracy: 0.9800\n",
            "Epoch 19/45\n",
            "25/25 [==============================] - 0s 2ms/step - loss: 0.0937 - accuracy: 0.9837\n",
            "Epoch 20/45\n",
            "25/25 [==============================] - 0s 2ms/step - loss: 0.0897 - accuracy: 0.9800\n",
            "Epoch 21/45\n",
            "25/25 [==============================] - 0s 2ms/step - loss: 0.1051 - accuracy: 0.9638\n",
            "Epoch 22/45\n",
            "25/25 [==============================] - 0s 2ms/step - loss: 0.0704 - accuracy: 0.9825\n",
            "Epoch 23/45\n",
            "25/25 [==============================] - 0s 2ms/step - loss: 0.0798 - accuracy: 0.9825\n",
            "Epoch 24/45\n",
            "25/25 [==============================] - 0s 1ms/step - loss: 0.0640 - accuracy: 0.9862\n",
            "Epoch 25/45\n",
            "25/25 [==============================] - 0s 2ms/step - loss: 0.0753 - accuracy: 0.9825\n",
            "Epoch 26/45\n",
            "25/25 [==============================] - 0s 2ms/step - loss: 0.0665 - accuracy: 0.9862\n",
            "Epoch 27/45\n",
            "25/25 [==============================] - 0s 2ms/step - loss: 0.0561 - accuracy: 0.9887\n",
            "Epoch 28/45\n",
            "25/25 [==============================] - 0s 2ms/step - loss: 0.0593 - accuracy: 0.9787\n",
            "Epoch 29/45\n",
            "25/25 [==============================] - 0s 2ms/step - loss: 0.0593 - accuracy: 0.9850\n",
            "Epoch 30/45\n",
            "25/25 [==============================] - 0s 2ms/step - loss: 0.0599 - accuracy: 0.9800\n",
            "Epoch 31/45\n",
            "25/25 [==============================] - 0s 5ms/step - loss: 0.0526 - accuracy: 0.9850\n",
            "Epoch 32/45\n",
            "25/25 [==============================] - 0s 6ms/step - loss: 0.0477 - accuracy: 0.9937\n",
            "Epoch 33/45\n",
            "25/25 [==============================] - 0s 6ms/step - loss: 0.0864 - accuracy: 0.9750\n",
            "Epoch 34/45\n",
            "25/25 [==============================] - 0s 6ms/step - loss: 0.0488 - accuracy: 0.9862\n",
            "Epoch 35/45\n",
            "25/25 [==============================] - 0s 6ms/step - loss: 0.0495 - accuracy: 0.9862\n",
            "Epoch 36/45\n",
            "25/25 [==============================] - 0s 6ms/step - loss: 0.0462 - accuracy: 0.9862\n",
            "Epoch 37/45\n",
            "25/25 [==============================] - 0s 7ms/step - loss: 0.0470 - accuracy: 0.9887\n",
            "Epoch 38/45\n",
            "25/25 [==============================] - 0s 6ms/step - loss: 0.0506 - accuracy: 0.9812\n",
            "Epoch 39/45\n",
            "25/25 [==============================] - 0s 6ms/step - loss: 0.0458 - accuracy: 0.9862\n",
            "Epoch 40/45\n",
            "25/25 [==============================] - 0s 5ms/step - loss: 0.0470 - accuracy: 0.9837\n",
            "Epoch 41/45\n",
            "25/25 [==============================] - 0s 4ms/step - loss: 0.0421 - accuracy: 0.9900\n",
            "Epoch 42/45\n",
            "25/25 [==============================] - 0s 3ms/step - loss: 0.0437 - accuracy: 0.9800\n",
            "Epoch 43/45\n",
            "25/25 [==============================] - 0s 2ms/step - loss: 0.0461 - accuracy: 0.9900\n",
            "Epoch 44/45\n",
            "25/25 [==============================] - 0s 2ms/step - loss: 0.0379 - accuracy: 0.9887\n",
            "Epoch 45/45\n",
            "25/25 [==============================] - 0s 2ms/step - loss: 0.0399 - accuracy: 0.9875\n"
          ]
        }
      ]
    },
    {
      "cell_type": "code",
      "source": [
        "from sklearn.metrics import accuracy_score, precision_score, recall_score, confusion_matrix"
      ],
      "metadata": {
        "id": "lHPM3hJ5eF5L"
      },
      "execution_count": null,
      "outputs": []
    },
    {
      "cell_type": "code",
      "source": [
        "y_pred = model_3.predict(X_test)"
      ],
      "metadata": {
        "id": "kAevwOFRgIYI"
      },
      "execution_count": null,
      "outputs": []
    },
    {
      "cell_type": "code",
      "source": [
        "y_test[:10]"
      ],
      "metadata": {
        "colab": {
          "base_uri": "https://localhost:8080/"
        },
        "id": "Sn_HU5FOgTg6",
        "outputId": "67c71292-658b-4863-e65a-6baaee389309"
      },
      "execution_count": null,
      "outputs": [
        {
          "output_type": "execute_result",
          "data": {
            "text/plain": [
              "array([1, 0, 1, 0, 1, 1, 0, 0, 1, 0])"
            ]
          },
          "metadata": {},
          "execution_count": 203
        }
      ]
    },
    {
      "cell_type": "code",
      "source": [
        "y_pred[:10]"
      ],
      "metadata": {
        "colab": {
          "base_uri": "https://localhost:8080/"
        },
        "id": "Mdchl5LrgVS6",
        "outputId": "10efe8af-e781-4267-9b5b-58c946f0b628"
      },
      "execution_count": null,
      "outputs": [
        {
          "output_type": "execute_result",
          "data": {
            "text/plain": [
              "array([[9.9903035e-01],\n",
              "       [2.6860237e-03],\n",
              "       [9.9987268e-01],\n",
              "       [9.6490257e-06],\n",
              "       [9.3262893e-01],\n",
              "       [9.7822392e-01],\n",
              "       [1.0595285e-04],\n",
              "       [2.7193069e-05],\n",
              "       [9.9859428e-01],\n",
              "       [1.9586086e-03]], dtype=float32)"
            ]
          },
          "metadata": {},
          "execution_count": 204
        }
      ]
    },
    {
      "cell_type": "code",
      "source": [
        "y_pred = tf.round(y_pred)"
      ],
      "metadata": {
        "id": "kyft7jokekX1"
      },
      "execution_count": null,
      "outputs": []
    },
    {
      "cell_type": "code",
      "source": [
        "y_pred[:10]"
      ],
      "metadata": {
        "colab": {
          "base_uri": "https://localhost:8080/"
        },
        "id": "XmxGT5ylgXyA",
        "outputId": "efbb70e8-fc3c-4ef5-f6dc-f4267e98d5d9"
      },
      "execution_count": null,
      "outputs": [
        {
          "output_type": "execute_result",
          "data": {
            "text/plain": [
              "<tf.Tensor: shape=(10, 1), dtype=float32, numpy=\n",
              "array([[1.],\n",
              "       [0.],\n",
              "       [1.],\n",
              "       [0.],\n",
              "       [1.],\n",
              "       [1.],\n",
              "       [0.],\n",
              "       [0.],\n",
              "       [1.],\n",
              "       [0.]], dtype=float32)>"
            ]
          },
          "metadata": {},
          "execution_count": 206
        }
      ]
    },
    {
      "cell_type": "code",
      "source": [
        "confusion_matrix(y_test, y_pred)"
      ],
      "metadata": {
        "colab": {
          "base_uri": "https://localhost:8080/"
        },
        "id": "IN3XzB-zgiS7",
        "outputId": "aa24d60e-fb85-4501-c5f9-405f9e2a1cf6"
      },
      "execution_count": null,
      "outputs": [
        {
          "output_type": "execute_result",
          "data": {
            "text/plain": [
              "array([[95,  5],\n",
              "       [ 8, 92]])"
            ]
          },
          "metadata": {},
          "execution_count": 207
        }
      ]
    },
    {
      "cell_type": "code",
      "source": [
        "import itertools"
      ],
      "metadata": {
        "id": "fnX2EbTZhOjy"
      },
      "execution_count": null,
      "outputs": []
    },
    {
      "cell_type": "code",
      "source": [
        "# Note: The following confusion matrix code is a remix of Scikit-Learn's \n",
        "# plot_confusion_matrix function - https://scikit-learn.org/stable/modules/generated/sklearn.metrics.plot_confusion_matrix.html\n",
        "# and Made with ML's introductory notebook - https://github.com/GokuMohandas/MadeWithML/blob/main/notebooks/08_Neural_Networks.ipynb \n",
        "import itertools\n",
        "\n",
        "figsize = (10, 10)\n",
        "\n",
        "# Create the confusion matrix\n",
        "cm = confusion_matrix(y_test, y_pred)\n",
        "cm_norm = cm.astype(\"float\") / cm.sum(axis=1)[:, np.newaxis] # normalize it\n",
        "n_classes = cm.shape[0]\n",
        "\n",
        "# Let's prettify it\n",
        "fig, ax = plt.subplots(figsize=figsize)\n",
        "# Create a matrix plot\n",
        "cax = ax.matshow(cm, cmap=plt.cm.Blues) # https://matplotlib.org/3.2.0/api/_as_gen/matplotlib.axes.Axes.matshow.html\n",
        "fig.colorbar(cax)\n",
        "\n",
        "# Create classes\n",
        "classes = False\n",
        "\n",
        "if classes:\n",
        "  labels = classes\n",
        "else:\n",
        "  labels = np.arange(cm.shape[0])\n",
        "\n",
        "# Label the axes\n",
        "ax.set(title=\"Confusion Matrix\",\n",
        "       xlabel=\"Predicted label\",\n",
        "       ylabel=\"True label\",\n",
        "       xticks=np.arange(n_classes),\n",
        "       yticks=np.arange(n_classes),\n",
        "       xticklabels=labels,\n",
        "       yticklabels=labels)\n",
        "\n",
        "# Set x-axis labels to bottom\n",
        "ax.xaxis.set_label_position(\"bottom\")\n",
        "ax.xaxis.tick_bottom()\n",
        "\n",
        "# Adjust label size\n",
        "ax.xaxis.label.set_size(20)\n",
        "ax.yaxis.label.set_size(20)\n",
        "ax.title.set_size(20)\n",
        "\n",
        "# Set threshold for different colors\n",
        "threshold = (cm.max() + cm.min()) / 2.\n",
        "\n",
        "# Plot the text on each cell\n",
        "for i, j in itertools.product(range(cm.shape[0]), range(cm.shape[1])):\n",
        "  plt.text(j, i, f\"{cm[i, j]} ({cm_norm[i, j]*100:.1f}%)\",\n",
        "           horizontalalignment=\"center\",\n",
        "           color=\"white\" if cm[i, j] > threshold else \"black\",\n",
        "           size=15)"
      ],
      "metadata": {
        "colab": {
          "base_uri": "https://localhost:8080/",
          "height": 574
        },
        "id": "2eHKU3ixhQ3O",
        "outputId": "f3a9167f-c9df-4f3d-97d8-9bd05ce9e087"
      },
      "execution_count": null,
      "outputs": [
        {
          "output_type": "display_data",
          "data": {
            "text/plain": [
              "<Figure size 720x720 with 2 Axes>"
            ],
            "image/png": "[encoded data removed]"
          },
          "metadata": {
            "needs_background": "light"
          }
        }
      ]
    }
  ]
}